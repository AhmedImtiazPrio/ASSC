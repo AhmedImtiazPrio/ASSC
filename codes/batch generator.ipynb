{
 "cells": [
  {
   "cell_type": "code",
   "execution_count": 1,
   "metadata": {},
   "outputs": [
    {
     "name": "stderr",
     "output_type": "stream",
     "text": [
      "C:\\Users\\User\\Anaconda3\\envs\\thesis\\lib\\site-packages\\h5py\\__init__.py:36: FutureWarning: Conversion of the second argument of issubdtype from `float` to `np.floating` is deprecated. In future, it will be treated as `np.float64 == np.dtype(float).type`.\n",
      "  from ._conv import register_converters as _register_converters\n",
      "Using TensorFlow backend.\n"
     ]
    },
    {
     "name": "stdout",
     "output_type": "stream",
     "text": [
      "[14, 30, 11, 15, 29, 8, 48, 24, 40, 54, 16, 37, 10, 39, 7, 18, 42, 57, 31]\n",
      "35\n",
      "21\n",
      "22\n",
      "43\n",
      "9\n",
      "56\n",
      "34\n",
      "58\n",
      "26\n",
      "6\n",
      "3\n",
      "55\n",
      "33\n",
      "2\n",
      "27\n",
      "13\n",
      "46\n",
      "45\n",
      "38\n",
      "47\n",
      "17\n",
      "5\n",
      "25\n",
      "32\n",
      "1\n",
      "52\n",
      "50\n",
      "12\n",
      "41\n",
      "51\n",
      "4\n",
      "19\n",
      "0\n",
      "23\n",
      "53\n",
      "49\n",
      "36\n",
      "20\n",
      "44\n",
      "60\n",
      "59\n",
      "28\n",
      "14\n",
      "30\n",
      "11\n",
      "15\n",
      "29\n",
      "8\n",
      "48\n",
      "24\n",
      "40\n",
      "54\n",
      "16\n",
      "37\n",
      "10\n",
      "39\n",
      "7\n",
      "18\n",
      "42\n",
      "57\n",
      "31\n",
      "Dataframe has been loaded\n"
     ]
    }
   ],
   "source": [
    "import numpy as np\n",
    "import pandas as pd\n",
    "from sklearn.metrics import confusion_matrix\n",
    "from sklearn.metrics import f1_score\n",
    "from keras import backend as K\n",
    "\n",
    "def patientSplitter(randomIDfile,df2,split_portion):\n",
    "    import pandas as pd\n",
    "\n",
    "    df1 = pd.read_csv(randomIDfile,header=None)\n",
    "    split_portion_numer=int(split_portion*61)\n",
    "\n",
    "    train_pat_list = [int(each) for each in df1.iloc[:split_portion_numer].values]\n",
    "    test_pat_list = [int(each) for each in df1.iloc[split_portion_numer:].values]\n",
    "    print(test_pat_list)\n",
    "    df3 = []\n",
    "    df4 = []\n",
    "    for pat_ID in train_pat_list:\n",
    "        df3.append(df2[df2.patID == pat_ID].values)\n",
    "        print(pat_ID)\n",
    "    for pat_ID in test_pat_list:\n",
    "        df4.append(df2[df2.patID == pat_ID].values)\n",
    "        print(pat_ID)\n",
    "    del df2\n",
    "    df3 = pd.np.vstack(df3)\n",
    "    df4 = pd.np.vstack(df4)\n",
    "    X_train = df3[:, :3000]\n",
    "    X_test= df4[:, :3000]\n",
    "    Y_train= df3[:,3000]\n",
    "    Y_test= df4[:,3000]\n",
    "    pat_train=df3[:, 3002:3003]\n",
    "    pat_test= df4[:, 3002:3003]\n",
    "\n",
    "    del pd\n",
    "    return X_train,X_test,Y_train,Y_test,pat_train,pat_test\n",
    "\n",
    "df2 = pd.read_csv(\"E:/SleepWell/ASSC/data/lastpurifiedallDataChannel1.csv\", header=None)\n",
    "df2.rename({3000: 'hyp', 3001: 'epoch', 3002: 'patID'}, axis=\"columns\", inplace=True)\n",
    "\n",
    "trainX, valX, trainY, valY, pat_train, pat_val = patientSplitter('randomizedIDs.csv', df2, .7)\n",
    "print(\"Dataframe has been loaded\")\n",
    "#valX -= np.mean(valX, axis=-1, keepdims=True)"
   ]
  },
  {
   "cell_type": "code",
   "execution_count": null,
   "metadata": {},
   "outputs": [],
   "source": [
    "def balancedbatchgeneratorbleh(trainX, trainY, pat_train, batch_size):\n",
    "    from sklearn.utils import shuffle\n",
    "    SC_mask = pat_train < 39\n",
    "    ST_mask = ~SC_mask\n",
    "    chunk_size = int(batch_size/2)\n",
    "    SC_trainX = trainX[SC_mask]\n",
    "    ST_trainX = trainX[~SC_mask]\n",
    "    \n",
    "    del trainX\n",
    "    \n",
    "    SC_trainY = trainY[SC_mask]\n",
    "    ST_trainY = trainY[~SC_mask]\n",
    "    \n",
    "    #initial shuffle, one of many # each takes one second\n",
    "    SC_trainX, SC_trainY = shuffle(SC_trainX, SC_trainY, random_state=0)\n",
    "    ST_trainX, ST_trainY = shuffle(ST_trainX, ST_trainY, random_state=0)\n",
    "    \n",
    "    number_of_SC_batches = int(len(SC_trainX) /chunk_size)\n",
    "    number_of_ST_batches = int(len(ST_trainX) /chunk_size)\n",
    "    \n",
    "    dummySC_trainX = []\n",
    "    dummyST_\n",
    "    \n",
    "    for i in range(number_of_SC_batches):\n",
    "        if i>number_of_ST_batches:\n",
    "            dummySC_trainX.append( ST_trainX[(i%number_of_ST_batches)*chunk_size:((i%number_of_ST_batches)+1)*chunk_size])\n",
    "        else\n",
    "            dummySC_trainX.append( ST_trainX[i*chunk_size:(i+1)*chunk_size])\n",
    "        dummySC_trainX.append( SC_trainX[i*chunk_size:(i+1)*chunk_size])\n",
    "        \n",
    "    \n",
    "\n",
    "    \n",
    "    "
   ]
  },
  {
   "cell_type": "code",
   "execution_count": 2,
   "metadata": {},
   "outputs": [
    {
     "name": "stdout",
     "output_type": "stream",
     "text": [
      "[[  -7.0032    10.949      0.45397 ...    3.8603   -32.781    -21.733  ]\n",
      " [ -37.844    -63.254    -81.022   ...  -54.14     -39.778    -40.33   ]\n",
      " [ -52.575    -60.032    -37.568   ...   -9.673   -105.7      -62.241  ]\n",
      " ...\n",
      " [   8.0828    -9.2701    -0.77631 ...    5.5255    -3.2422     4.0642 ]\n",
      " [   4.0642    -2.1463     4.7949  ...   -2.6029     1.3243     7.6261 ]\n",
      " [  -5.5255    -3.7902     0.50232 ...   -0.22833  -15.663    -11.919  ]]\n",
      "[6. 6. 6. ... 6. 6. 6.]\n"
     ]
    }
   ],
   "source": [
    "from sklearn.utils import shuffle\n",
    "# X=[1,2,3]\n",
    "# y = ['one', 'two', 'three']\n",
    "trainXf, trainYf = shuffle(trainX, trainY, random_state=0)\n",
    "print(trainX)\n",
    "print(trainY)"
   ]
  },
  {
   "cell_type": "code",
   "execution_count": 17,
   "metadata": {},
   "outputs": [
    {
     "name": "stdout",
     "output_type": "stream",
     "text": [
      "None\n"
     ]
    }
   ],
   "source": [
    "print(trainB)"
   ]
  },
  {
   "cell_type": "code",
   "execution_count": 3,
   "metadata": {},
   "outputs": [],
   "source": [
    "del trainXf"
   ]
  },
  {
   "cell_type": "code",
   "execution_count": 4,
   "metadata": {},
   "outputs": [
    {
     "ename": "NameError",
     "evalue": "name 'trainXf' is not defined",
     "output_type": "error",
     "traceback": [
      "\u001b[1;31m---------------------------------------------------------------------------\u001b[0m",
      "\u001b[1;31mNameError\u001b[0m                                 Traceback (most recent call last)",
      "\u001b[1;32m<ipython-input-4-6eb1cc6b365e>\u001b[0m in \u001b[0;36m<module>\u001b[1;34m()\u001b[0m\n\u001b[1;32m----> 1\u001b[1;33m \u001b[0mtrainXf\u001b[0m\u001b[1;33m\u001b[0m\u001b[0m\n\u001b[0m",
      "\u001b[1;31mNameError\u001b[0m: name 'trainXf' is not defined"
     ]
    }
   ],
   "source": [
    "trainXf"
   ]
  },
  {
   "cell_type": "code",
   "execution_count": 12,
   "metadata": {},
   "outputs": [
    {
     "data": {
      "text/plain": [
       "(82843,)"
      ]
     },
     "execution_count": 12,
     "metadata": {},
     "output_type": "execute_result"
    }
   ],
   "source": [
    "trainY.shape"
   ]
  },
  {
   "cell_type": "code",
   "execution_count": 13,
   "metadata": {},
   "outputs": [
    {
     "data": {
      "text/plain": [
       "6"
      ]
     },
     "execution_count": 13,
     "metadata": {},
     "output_type": "execute_result"
    }
   ],
   "source": [
    "int(6.9)"
   ]
  },
  {
   "cell_type": "code",
   "execution_count": 15,
   "metadata": {},
   "outputs": [
    {
     "data": {
      "text/plain": [
       "1"
      ]
     },
     "execution_count": 15,
     "metadata": {},
     "output_type": "execute_result"
    }
   ],
   "source": [
    "4%3"
   ]
  },
  {
   "cell_type": "code",
   "execution_count": null,
   "metadata": {},
   "outputs": [],
   "source": []
  }
 ],
 "metadata": {
  "kernelspec": {
   "display_name": "Python 3",
   "language": "python",
   "name": "python3"
  },
  "language_info": {
   "codemirror_mode": {
    "name": "ipython",
    "version": 3
   },
   "file_extension": ".py",
   "mimetype": "text/x-python",
   "name": "python",
   "nbconvert_exporter": "python",
   "pygments_lexer": "ipython3",
   "version": "3.5.5"
  }
 },
 "nbformat": 4,
 "nbformat_minor": 2
}
