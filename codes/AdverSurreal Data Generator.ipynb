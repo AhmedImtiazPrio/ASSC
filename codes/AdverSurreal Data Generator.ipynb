{
 "cells": [
  {
   "cell_type": "code",
   "execution_count": 88,
   "metadata": {},
   "outputs": [
    {
     "name": "stdout",
     "output_type": "stream",
     "text": [
      "128\n",
      "[128, 128, 128, 128]\n"
     ]
    }
   ],
   "source": [
    "from keras.utils import to_categorical\n",
    "import numpy as np\n",
    "x = np.reshape(np.r_[0:128*5],newshape=(128,-1))\n",
    "x = np.expand_dims(x, axis= -1)\n",
    "y = []\n",
    "for idx in range(3):\n",
    "   y.append(to_categorical(np.random.randint(0,size=128,high=10)))\n",
    "# y = np.arange(10)\n",
    "# y= [y,y,y]\n",
    "\n",
    "print(len(x))\n",
    "print([len(each) for each in y] + [len(x)])\n",
    "y[1] = np.argmax(y[1],axis=-1)"
   ]
  },
  {
   "cell_type": "code",
   "execution_count": 89,
   "metadata": {},
   "outputs": [
    {
     "name": "stdout",
     "output_type": "stream",
     "text": [
      "Chunk size selected as 3\n"
     ]
    }
   ],
   "source": [
    "try:\n",
    "    del BalancedAudioDataGenerator\n",
    "except:\n",
    "    ;\n",
    "from AdvAudioDataGenerator import BalancedAudioDataGenerator\n",
    "datagen = BalancedAudioDataGenerator().flow(x,y.copy(),target_label=1,batch_size=32)"
   ]
  },
  {
   "cell_type": "code",
   "execution_count": 90,
   "metadata": {},
   "outputs": [
    {
     "data": {
      "text/plain": [
       "[array([[0., 0., 0., ..., 0., 0., 0.],\n",
       "        [0., 0., 0., ..., 0., 0., 1.],\n",
       "        [0., 0., 0., ..., 0., 0., 0.],\n",
       "        ...,\n",
       "        [0., 0., 0., ..., 0., 1., 0.],\n",
       "        [0., 0., 0., ..., 0., 0., 0.],\n",
       "        [0., 1., 0., ..., 0., 0., 0.]], dtype=float32),\n",
       " array([5, 9, 0, 8, 6, 7, 5, 1, 7, 5, 2, 1, 0, 0, 7, 0, 6, 7, 7, 9, 4, 6,\n",
       "        6, 3, 8, 1, 2, 8, 5, 8, 3, 6, 2, 4, 3, 3, 9, 3, 6, 3, 2, 2, 1, 4,\n",
       "        7, 3, 7, 2, 3, 9, 3, 5, 0, 6, 0, 4, 7, 6, 6, 4, 4, 9, 3, 7, 2, 0,\n",
       "        4, 0, 6, 7, 3, 6, 7, 1, 9, 8, 8, 1, 0, 4, 7, 8, 2, 7, 3, 0, 6, 9,\n",
       "        2, 3, 6, 5, 0, 0, 0, 6, 4, 1, 3, 6, 6, 0, 9, 3, 3, 4, 9, 4, 4, 4,\n",
       "        4, 4, 3, 0, 6, 7, 0, 9, 8, 3, 0, 1, 4, 9, 4, 2, 5, 2], dtype=int64),\n",
       " array([[0., 0., 0., ..., 0., 0., 0.],\n",
       "        [0., 0., 0., ..., 0., 0., 0.],\n",
       "        [0., 1., 0., ..., 0., 0., 0.],\n",
       "        ...,\n",
       "        [0., 0., 0., ..., 0., 0., 0.],\n",
       "        [0., 0., 0., ..., 0., 0., 0.],\n",
       "        [0., 0., 0., ..., 0., 0., 1.]], dtype=float32)]"
      ]
     },
     "execution_count": 90,
     "metadata": {},
     "output_type": "execute_result"
    }
   ],
   "source": [
    "# y[0] = np.argmax(y[0],axis=-1)\n",
    "y"
   ]
  },
  {
   "cell_type": "code",
   "execution_count": 91,
   "metadata": {},
   "outputs": [
    {
     "name": "stdout",
     "output_type": "stream",
     "text": [
      "Total batches seen 1\n",
      "Batch Index 1\n",
      "Current Index [3, 3, 3, 3, 3, 3, 3, 3, 3, 3]\n",
      "\n"
     ]
    }
   ],
   "source": [
    "batchx,batchy = next(datagen)"
   ]
  },
  {
   "cell_type": "code",
   "execution_count": 92,
   "metadata": {},
   "outputs": [
    {
     "data": {
      "text/plain": [
       "(30, 5)"
      ]
     },
     "execution_count": 92,
     "metadata": {},
     "output_type": "execute_result"
    }
   ],
   "source": [
    "batchx[:,:,0].shape"
   ]
  },
  {
   "cell_type": "code",
   "execution_count": 100,
   "metadata": {},
   "outputs": [
    {
     "name": "stdout",
     "output_type": "stream",
     "text": [
      "(30, 10)\n",
      "(30,)\n",
      "(30, 10)\n"
     ]
    }
   ],
   "source": [
    "if type(batchy) == list:\n",
    "    for each in batchy:\n",
    "        print(each.shape)\n",
    "else:\n",
    "    np.bincount(np.argmax(batchy,axis=-1))"
   ]
  },
  {
   "cell_type": "code",
   "execution_count": null,
   "metadata": {},
   "outputs": [],
   "source": []
  }
 ],
 "metadata": {
  "kernelspec": {
   "display_name": "Python 3",
   "language": "python",
   "name": "python3"
  },
  "language_info": {
   "codemirror_mode": {
    "name": "ipython",
    "version": 3
   },
   "file_extension": ".py",
   "mimetype": "text/x-python",
   "name": "python",
   "nbconvert_exporter": "python",
   "pygments_lexer": "ipython3",
   "version": "3.5.5"
  }
 },
 "nbformat": 4,
 "nbformat_minor": 2
}
