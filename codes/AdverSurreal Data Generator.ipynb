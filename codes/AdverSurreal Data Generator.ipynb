{
 "cells": [
  {
   "cell_type": "code",
   "execution_count": 1,
   "metadata": {},
   "outputs": [
    {
     "name": "stderr",
     "output_type": "stream",
     "text": [
      "C:\\Users\\User\\Anaconda3\\envs\\thesis\\lib\\site-packages\\h5py\\__init__.py:36: FutureWarning: Conversion of the second argument of issubdtype from `float` to `np.floating` is deprecated. In future, it will be treated as `np.float64 == np.dtype(float).type`.\n",
      "  from ._conv import register_converters as _register_converters\n",
      "Using TensorFlow backend.\n"
     ]
    },
    {
     "name": "stdout",
     "output_type": "stream",
     "text": [
      "128\n",
      "[128, 128, 128, 128]\n"
     ]
    }
   ],
   "source": [
    "from keras.utils import to_categorical\n",
    "import numpy as np\n",
    "x = np.reshape(np.r_[0:128*5],newshape=(128,-1))\n",
    "x = np.expand_dims(x, axis= -1)\n",
    "y = []\n",
    "for idx in range(3):\n",
    "   y.append(to_categorical(np.random.randint(0,size=128,high=10)))\n",
    "# y = np.arange(10)\n",
    "# y= [y,y,y]\n",
    "\n",
    "print(len(x))\n",
    "print([len(each) for each in y] + [len(x)])\n",
    "y[0] = np.argmax(y[0],axis=-1)"
   ]
  },
  {
   "cell_type": "code",
   "execution_count": 119,
   "metadata": {},
   "outputs": [
    {
     "name": "stdout",
     "output_type": "stream",
     "text": [
      "[[0]\n",
      " [1]\n",
      " [2]\n",
      " [3]\n",
      " [4]]\n",
      "Chunk size selected as 3\n"
     ]
    }
   ],
   "source": [
    "try:\n",
    "    del BalancedAudioDataGenerator\n",
    "except:\n",
    "    ;\n",
    "from AudioDataGenerator import BalancedAudioDataGenerator\n",
    "datagen = BalancedAudioDataGenerator(samplewise_center=True,roll_range=.5)\n",
    "print(datagen.random_transform(x[0]))\n",
    "datagen = datagen.flow(x,y,target_label=1,batch_size=32)"
   ]
  },
  {
   "cell_type": "code",
   "execution_count": 120,
   "metadata": {},
   "outputs": [
    {
     "data": {
      "text/plain": [
       "[array([8, 7, 3, 0, 6, 2, 1, 2, 0, 3, 2, 1, 2, 1, 3, 8, 4, 2, 5, 2, 8, 1,\n",
       "        8, 1, 0, 1, 6, 6, 8, 1, 3, 1, 1, 2, 1, 6, 3, 6, 9, 3, 4, 1, 2, 1,\n",
       "        1, 2, 2, 6, 7, 2, 8, 7, 8, 6, 2, 2, 8, 5, 4, 0, 0, 9, 7, 8, 8, 4,\n",
       "        7, 3, 2, 9, 4, 5, 8, 3, 8, 9, 6, 4, 1, 2, 1, 4, 3, 1, 9, 9, 1, 0,\n",
       "        3, 6, 1, 8, 5, 8, 6, 3, 7, 5, 5, 1, 3, 8, 5, 6, 4, 6, 1, 6, 7, 8,\n",
       "        7, 0, 1, 0, 5, 7, 0, 8, 6, 2, 4, 9, 9, 4, 4, 4, 7, 4], dtype=int64),\n",
       " array([[0., 0., 0., ..., 0., 0., 0.],\n",
       "        [0., 0., 1., ..., 0., 0., 0.],\n",
       "        [0., 0., 1., ..., 0., 0., 0.],\n",
       "        ...,\n",
       "        [0., 0., 0., ..., 0., 0., 0.],\n",
       "        [0., 0., 0., ..., 1., 0., 0.],\n",
       "        [1., 0., 0., ..., 0., 0., 0.]], dtype=float32),\n",
       " array([[1., 0., 0., ..., 0., 0., 0.],\n",
       "        [1., 0., 0., ..., 0., 0., 0.],\n",
       "        [0., 0., 0., ..., 0., 0., 1.],\n",
       "        ...,\n",
       "        [0., 1., 0., ..., 0., 0., 0.],\n",
       "        [0., 0., 0., ..., 0., 1., 0.],\n",
       "        [0., 0., 0., ..., 0., 0., 0.]], dtype=float32)]"
      ]
     },
     "execution_count": 120,
     "metadata": {},
     "output_type": "execute_result"
    }
   ],
   "source": [
    "# y[0] = np.argmax(y[0],axis=-1)\n",
    "y"
   ]
  },
  {
   "cell_type": "code",
   "execution_count": 121,
   "metadata": {},
   "outputs": [
    {
     "name": "stdout",
     "output_type": "stream",
     "text": [
      "Total batches seen 1\n",
      "Batch Index 1\n",
      "Current Index [3, 3, 3, 3, 3, 3, 3, 3, 3, 3]\n"
     ]
    },
    {
     "data": {
      "text/plain": [
       "array([[-2., -1.,  0.,  1.,  2.],\n",
       "       [-1.,  0.,  1.,  2., -2.],\n",
       "       [-1.,  0.,  1.,  2., -2.],\n",
       "       [ 0.,  1.,  2., -2., -1.],\n",
       "       [-2., -1.,  0.,  1.,  2.],\n",
       "       [ 1.,  2., -2., -1.,  0.],\n",
       "       [ 0.,  1.,  2., -2., -1.],\n",
       "       [-2., -1.,  0.,  1.,  2.],\n",
       "       [ 1.,  2., -2., -1.,  0.],\n",
       "       [-1.,  0.,  1.,  2., -2.],\n",
       "       [-1.,  0.,  1.,  2., -2.],\n",
       "       [ 0.,  1.,  2., -2., -1.],\n",
       "       [-1.,  0.,  1.,  2., -2.],\n",
       "       [-2., -1.,  0.,  1.,  2.],\n",
       "       [-2., -1.,  0.,  1.,  2.],\n",
       "       [ 2., -2., -1.,  0.,  1.],\n",
       "       [-2., -1.,  0.,  1.,  2.],\n",
       "       [ 2., -2., -1.,  0.,  1.],\n",
       "       [ 0.,  1.,  2., -2., -1.],\n",
       "       [-1.,  0.,  1.,  2., -2.],\n",
       "       [-2., -1.,  0.,  1.,  2.],\n",
       "       [-2., -1.,  0.,  1.,  2.],\n",
       "       [-2., -1.,  0.,  1.,  2.],\n",
       "       [-2., -1.,  0.,  1.,  2.],\n",
       "       [ 2., -2., -1.,  0.,  1.],\n",
       "       [ 2., -2., -1.,  0.,  1.],\n",
       "       [ 1.,  2., -2., -1.,  0.],\n",
       "       [-2., -1.,  0.,  1.,  2.],\n",
       "       [-2., -1.,  0.,  1.,  2.],\n",
       "       [ 2., -2., -1.,  0.,  1.]], dtype=float32)"
      ]
     },
     "execution_count": 121,
     "metadata": {},
     "output_type": "execute_result"
    }
   ],
   "source": [
    "batchx,batchy = next(datagen)\n",
    "batchx[:,:,0]"
   ]
  },
  {
   "cell_type": "code",
   "execution_count": null,
   "metadata": {},
   "outputs": [],
   "source": []
  },
  {
   "cell_type": "code",
   "execution_count": 5,
   "metadata": {},
   "outputs": [
    {
     "name": "stdout",
     "output_type": "stream",
     "text": [
      "(30,)\n",
      "(30, 10)\n",
      "(30, 10)\n"
     ]
    }
   ],
   "source": [
    "if type(batchy) == list:\n",
    "    for each in batchy:\n",
    "        print(each.shape)\n",
    "else:\n",
    "    np.bincount(np.argmax(batchy,axis=-1))"
   ]
  },
  {
   "cell_type": "code",
   "execution_count": null,
   "metadata": {},
   "outputs": [],
   "source": []
  }
 ],
 "metadata": {
  "kernelspec": {
   "display_name": "Python 3",
   "language": "python",
   "name": "python3"
  },
  "language_info": {
   "codemirror_mode": {
    "name": "ipython",
    "version": 3
   },
   "file_extension": ".py",
   "mimetype": "text/x-python",
   "name": "python",
   "nbconvert_exporter": "python",
   "pygments_lexer": "ipython3",
   "version": "3.5.5"
  }
 },
 "nbformat": 4,
 "nbformat_minor": 2
}
