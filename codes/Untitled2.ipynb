{
 "cells": [
  {
   "cell_type": "code",
   "execution_count": 31,
   "metadata": {},
   "outputs": [],
   "source": [
    "params = {  # still not universal\n",
    "\n",
    "        'num_classes': 7,  ### automate; number of classes depends on data fold\n",
    "        'batch_size': 15,\n",
    "        'epochs': 34,\n",
    "        'foldname': 'djfhaks',\n",
    "        'random_seed': 5,\n",
    "        'load_path': 'adfha',\n",
    "        'shuffle': True,\n",
    "        'initial_epoch': 1,\n",
    "        'eeg_length': 3000,\n",
    "        'kernel_size': 16,\n",
    "        'bias': True,\n",
    "        'maxnorm': 4.,\n",
    "        'dropout_rate': 0.5,\n",
    "        'dropout_rate_dense': 0.,\n",
    "        'padding': 'valid',\n",
    "        'activation_function': 'relu',\n",
    "        'subsam': 2,\n",
    "        'trainable': True,\n",
    "        'lr': .0001,\n",
    "        'lr_decay': 1e-5,\n",
    "        'log_name': 'fasdfa',\n",
    "        'num_classes': 3242,\n",
    "        'class_weight': 6,\n",
    "    }\n"
   ]
  },
  {
   "cell_type": "code",
   "execution_count": 32,
   "metadata": {},
   "outputs": [],
   "source": [
    "def trial(params):\n",
    "    new_entry = {'Filename': '*'+params['log_name'],\n",
    "                 'num_classes': params['num_classes'],  ### automate; number of classes depends on data fold\n",
    "                 'batch_size': params['batch_size'],\n",
    "                 'epochs': params['epochs'],\n",
    "                 'foldname': params['foldname'],\n",
    "                 'random_seed': params['random_seed'],\n",
    "                 'load_path': params['load_path'],\n",
    "                 'shuffle' : params['shuffle'],\n",
    "                 'initial_epoch': params['initial_epoch'],\n",
    "                 'eeg_length' : params['eeg_length'],\n",
    "                 'kernel_size': params['kernel_size'],\n",
    "                 'bias': params['bias'],\n",
    "                 'maxnorm': params['maxnorm'],\n",
    "                 'dropout_rate': params['dropout_rate'],\n",
    "                 'dropout_rate_dense': params['dropout_rate_dense'],\n",
    "                 'padding': params['padding'],\n",
    "                 'activation_function': params['activation_function'],\n",
    "                 'subsam': params['subsam'],\n",
    "                 'trainable' : params['trainable'],\n",
    "                 'learningRate': params['lr'],\n",
    "                 'learningRateDecay': params['lr_decay'],\n",
    "                 'classWeights' : params['class_weight'],\n",
    "                 'numberofClasses' : params['num_classes'],\n",
    "\n",
    "                }\n",
    "    print(params)\n",
    "    print(new_entry)\n"
   ]
  },
  {
   "cell_type": "code",
   "execution_count": 35,
   "metadata": {},
   "outputs": [
    {
     "name": "stdout",
     "output_type": "stream",
     "text": [
      "{'num_classes': 3242, 'maxnorm': 4.0, 'eeg_length': 3000, 'log_name': 'fasdfa', 'random_seed': 5, 'foldname': 'djfhaks', 'lr': 0.0001, 'lr_decay': 1e-05, 'load_path': 'adfha', 'kernel_size': 16, 'activation_function': 'relu', 'epochs': 34, 'shuffle': True, 'batch_size': 15, 'padding': 'valid', 'subsam': 2, 'initial_epoch': 1, 'bias': True, 'trainable': True, 'class_weight': 6, 'dropout_rate_dense': 0.0, 'dropout_rate': 0.5}\n",
      "{'num_classes': 3242, 'maxnorm': 4.0, 'eeg_length': 3000, 'random_seed': 5, 'foldname': 'djfhaks', 'load_path': 'adfha', 'learningRate': 0.0001, 'numberofClasses': 3242, 'activation_function': 'relu', 'epochs': 34, 'kernel_size': 16, 'classWeights': 6, 'batch_size': 15, 'padding': 'valid', 'shuffle': True, 'subsam': 2, 'initial_epoch': 1, 'bias': True, 'dropout_rate': 0.5, 'trainable': True, 'Filename': '*fasdfa', 'dropout_rate_dense': 0.0, 'learningRateDecay': 1e-05}\n"
     ]
    }
   ],
   "source": [
    "trial(params)"
   ]
  },
  {
   "cell_type": "code",
   "execution_count": 21,
   "metadata": {},
   "outputs": [
    {
     "data": {
      "text/plain": [
       "{'activation_function': 'relu',\n",
       " 'batch_size': 15,\n",
       " 'bias': True,\n",
       " 'class_weight': 6,\n",
       " 'dropout_rate': 0.5,\n",
       " 'dropout_rate_dense': 0.0,\n",
       " 'eeg_length': 3000,\n",
       " 'epochs': 34,\n",
       " 'foldname': 'djfhaks',\n",
       " 'initial_epoch': 1,\n",
       " 'kernel_size': 16,\n",
       " 'load_path': 'adfha',\n",
       " 'log_name': 'fasdfa',\n",
       " 'lr': 0.0001,\n",
       " 'lr_decay': 1e-05,\n",
       " 'maxnorm': 4.0,\n",
       " 'num_classes': 3242,\n",
       " 'padding': 'valid',\n",
       " 'random_seed': 5,\n",
       " 'shuffle': True,\n",
       " 'subsam': 2,\n",
       " 'trainable': True}"
      ]
     },
     "execution_count": 21,
     "metadata": {},
     "output_type": "execute_result"
    }
   ],
   "source": [
    "params"
   ]
  },
  {
   "cell_type": "code",
   "execution_count": 24,
   "metadata": {},
   "outputs": [],
   "source": [
    "new_entry=params"
   ]
  },
  {
   "cell_type": "code",
   "execution_count": 25,
   "metadata": {},
   "outputs": [
    {
     "data": {
      "text/plain": [
       "{'activation_function': 'relu',\n",
       " 'batch_size': 15,\n",
       " 'bias': True,\n",
       " 'class_weight': 6,\n",
       " 'dropout_rate': 0.5,\n",
       " 'dropout_rate_dense': 0.0,\n",
       " 'eeg_length': 3000,\n",
       " 'epochs': 34,\n",
       " 'foldname': 'djfhaks',\n",
       " 'initial_epoch': 1,\n",
       " 'kernel_size': 16,\n",
       " 'load_path': 'adfha',\n",
       " 'log_name': 'fasdfa',\n",
       " 'lr': 0.0001,\n",
       " 'lr_decay': 1e-05,\n",
       " 'maxnorm': 4.0,\n",
       " 'num_classes': 3242,\n",
       " 'padding': 'valid',\n",
       " 'random_seed': 5,\n",
       " 'shuffle': True,\n",
       " 'subsam': 2,\n",
       " 'trainable': True}"
      ]
     },
     "execution_count": 25,
     "metadata": {},
     "output_type": "execute_result"
    }
   ],
   "source": [
    "new_entry"
   ]
  },
  {
   "cell_type": "code",
   "execution_count": 26,
   "metadata": {},
   "outputs": [],
   "source": [
    "new_entry.update({3:4})"
   ]
  },
  {
   "cell_type": "code",
   "execution_count": 27,
   "metadata": {},
   "outputs": [
    {
     "data": {
      "text/plain": [
       "{3: 4,\n",
       " 'activation_function': 'relu',\n",
       " 'batch_size': 15,\n",
       " 'bias': True,\n",
       " 'class_weight': 6,\n",
       " 'dropout_rate': 0.5,\n",
       " 'dropout_rate_dense': 0.0,\n",
       " 'eeg_length': 3000,\n",
       " 'epochs': 34,\n",
       " 'foldname': 'djfhaks',\n",
       " 'initial_epoch': 1,\n",
       " 'kernel_size': 16,\n",
       " 'load_path': 'adfha',\n",
       " 'log_name': 'fasdfa',\n",
       " 'lr': 0.0001,\n",
       " 'lr_decay': 1e-05,\n",
       " 'maxnorm': 4.0,\n",
       " 'num_classes': 3242,\n",
       " 'padding': 'valid',\n",
       " 'random_seed': 5,\n",
       " 'shuffle': True,\n",
       " 'subsam': 2,\n",
       " 'trainable': True}"
      ]
     },
     "execution_count": 27,
     "metadata": {},
     "output_type": "execute_result"
    }
   ],
   "source": [
    "new_entry"
   ]
  },
  {
   "cell_type": "code",
   "execution_count": 29,
   "metadata": {},
   "outputs": [],
   "source": [
    "del params['load_path']"
   ]
  },
  {
   "cell_type": "code",
   "execution_count": 30,
   "metadata": {},
   "outputs": [
    {
     "data": {
      "text/plain": [
       "{3: 4,\n",
       " 'activation_function': 'relu',\n",
       " 'batch_size': 15,\n",
       " 'bias': True,\n",
       " 'class_weight': 6,\n",
       " 'dropout_rate': 0.5,\n",
       " 'dropout_rate_dense': 0.0,\n",
       " 'eeg_length': 3000,\n",
       " 'epochs': 34,\n",
       " 'foldname': 'djfhaks',\n",
       " 'initial_epoch': 1,\n",
       " 'kernel_size': 16,\n",
       " 'log_name': 'fasdfa',\n",
       " 'lr': 0.0001,\n",
       " 'lr_decay': 1e-05,\n",
       " 'maxnorm': 4.0,\n",
       " 'num_classes': 3242,\n",
       " 'padding': 'valid',\n",
       " 'random_seed': 5,\n",
       " 'shuffle': True,\n",
       " 'subsam': 2,\n",
       " 'trainable': True}"
      ]
     },
     "execution_count": 30,
     "metadata": {},
     "output_type": "execute_result"
    }
   ],
   "source": [
    "params"
   ]
  },
  {
   "cell_type": "code",
   "execution_count": null,
   "metadata": {},
   "outputs": [],
   "source": []
  }
 ],
 "metadata": {
  "kernelspec": {
   "display_name": "Python 3",
   "language": "python",
   "name": "python3"
  },
  "language_info": {
   "codemirror_mode": {
    "name": "ipython",
    "version": 3
   },
   "file_extension": ".py",
   "mimetype": "text/x-python",
   "name": "python",
   "nbconvert_exporter": "python",
   "pygments_lexer": "ipython3",
   "version": "3.5.5"
  }
 },
 "nbformat": 4,
 "nbformat_minor": 2
}
