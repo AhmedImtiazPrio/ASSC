{
 "cells": [
  {
   "cell_type": "code",
   "execution_count": 7,
   "metadata": {},
   "outputs": [],
   "source": [
    "import os\n",
    "results_file = os.path.join(os.getcwd(), '..', 'results.csv').replace('\\\\','/')"
   ]
  },
  {
   "cell_type": "code",
   "execution_count": 4,
   "metadata": {},
   "outputs": [
    {
     "data": {
      "text/plain": [
       "'E:/SleepWell/ASSC/codes/../results.csv'"
      ]
     },
     "execution_count": 4,
     "metadata": {},
     "output_type": "execute_result"
    }
   ],
   "source": [
    "results_file"
   ]
  },
  {
   "cell_type": "code",
   "execution_count": 8,
   "metadata": {},
   "outputs": [],
   "source": [
    "import pandas as pd\n",
    "df = pd.read_csv(results_file)"
   ]
  },
  {
   "cell_type": "code",
   "execution_count": 9,
   "metadata": {},
   "outputs": [
    {
     "data": {
      "text/html": [
       "<div>\n",
       "<style scoped>\n",
       "    .dataframe tbody tr th:only-of-type {\n",
       "        vertical-align: middle;\n",
       "    }\n",
       "\n",
       "    .dataframe tbody tr th {\n",
       "        vertical-align: top;\n",
       "    }\n",
       "\n",
       "    .dataframe thead th {\n",
       "        text-align: right;\n",
       "    }\n",
       "</style>\n",
       "<table border=\"1\" class=\"dataframe\">\n",
       "  <thead>\n",
       "    <tr style=\"text-align: right;\">\n",
       "      <th></th>\n",
       "      <th>training loss\ttesting loss\tdropout</th>\n",
       "    </tr>\n",
       "  </thead>\n",
       "  <tbody>\n",
       "  </tbody>\n",
       "</table>\n",
       "</div>"
      ],
      "text/plain": [
       "Empty DataFrame\n",
       "Columns: [training loss\ttesting loss\tdropout]\n",
       "Index: []"
      ]
     },
     "execution_count": 9,
     "metadata": {},
     "output_type": "execute_result"
    }
   ],
   "source": [
    "df"
   ]
  },
  {
   "cell_type": "code",
   "execution_count": 3,
   "metadata": {
    "scrolled": true
   },
   "outputs": [
    {
     "name": "stderr",
     "output_type": "stream",
     "text": [
      "C:\\Users\\User\\Anaconda3\\envs\\thesis\\lib\\site-packages\\ipykernel_launcher.py:28: FutureWarning: Sorting because non-concatenation axis is not aligned. A future version\n",
      "of pandas will change to not sort by default.\n",
      "\n",
      "To accept the future behavior, pass 'sort=True'.\n",
      "\n",
      "To retain the current behavior and silence the warning, pass sort=False\n",
      "\n"
     ]
    }
   ],
   "source": [
    "import pandas as pd\n",
    "#df = pd.read_csv(results_file)\n",
    "df1 = pd.read_csv(\"E:/SleepWell/ASSC/logs/allDataChannel1_2019-01-05 16-07-24.086160/training.csv\")\n",
    "#max_idx = df1['val_loss'].idxmax()\n",
    "#     new_entry = {'Filename': log_name, 'Weight Initialization': 'he_normal',\n",
    "#                  'Activation': activation_function + '-softmax', 'Class weights': addweights,\n",
    "#                  'Kernel Size': kernel_size, 'Max Norm': maxnorm,\n",
    "#                  'Dropout -filters': dropout_rate,\n",
    "#                  'Dropout - dense': dropout_rate_dense,\n",
    "#                  'L2 - filters': l2_reg, 'L2- dense': l2_reg_dense,\n",
    "#                  'Batch Size': batch_size, 'Optimizer': 'Adam', 'Learning Rate': lr,\n",
    "#                  'BN momentum': bn_momentum, 'Lr decay': lr_decay,\n",
    "#                  'Best Val Acc Per Cardiac Cycle':\n",
    "#                      df1.loc[max_idx]['val_acc'] * 100,\n",
    "#                  'Epoch': df1.loc[[max_idx]]['epoch'].values[0],\n",
    "#                  'Training Acc per cardiac cycle': df1.loc[max_idx]['acc'] * 100,\n",
    "#                  'Specificity': df1.loc[max_idx]['val_specificity'] * 100,\n",
    "#                  'Macc': df1.loc[max_idx]['val_macc'] * 100,\n",
    "#                  'Precision': df1.loc[max_idx]['val_precision'] * 100,\n",
    "#                  'Sensitivity': df1.loc[max_idx]['val_sensitivity'] * 100,\n",
    "#                  'Number of filters': str(num_filt),\n",
    "#                  'F1': df1.loc[max_idx]['val_F1'] * 100,\n",
    "#                  'Number of Dense Neurons': num_dense,\n",
    "#                  'Comment': comment}\\\n",
    "new_entry = {'fdsf':\"ajsdhfga\", 'adhjsgf':1837}\n",
    "index, _ = df1.shape\n",
    "new_entry = pd.DataFrame(new_entry, index=[index])\n",
    "df2 = pd.concat([df1, new_entry], axis=0)\n",
    "    # df2 = df2.reindex(df.columns)\n",
    "#df2.to_csv(results_file, index=False)\n",
    "#df2.tail()\n",
    "#print(\"Saving to results.csv\")"
   ]
  },
  {
   "cell_type": "code",
   "execution_count": 16,
   "metadata": {},
   "outputs": [
    {
     "name": "stdout",
     "output_type": "stream",
     "text": [
      "0\n"
     ]
    }
   ],
   "source": [
    "print(max_idx)"
   ]
  },
  {
   "cell_type": "code",
   "execution_count": 19,
   "metadata": {},
   "outputs": [
    {
     "name": "stdout",
     "output_type": "stream",
     "text": [
      "0    0.812187\n",
      "1    0.540000\n",
      "Name: val_acc, dtype: float64\n"
     ]
    },
    {
     "data": {
      "text/plain": [
       "0.8121870940000001"
      ]
     },
     "execution_count": 19,
     "metadata": {},
     "output_type": "execute_result"
    }
   ],
   "source": [
    "import pandas as pd\n",
    "import numpy as np\n",
    "df1 = pd.read_csv(\"E:/SleepWell/ASSC/logs/allDataChannel1_2019-01-05 15-58-12.139755/training.csv\")\n",
    "print(df1.val_acc)\n",
    "np.max(df1.val_acc)"
   ]
  },
  {
   "cell_type": "code",
   "execution_count": 58,
   "metadata": {},
   "outputs": [],
   "source": [
    "new_entry = {'fdsf':\"ajsdhfga\", 'adhjsgf':1837}"
   ]
  },
  {
   "cell_type": "code",
   "execution_count": 49,
   "metadata": {},
   "outputs": [
    {
     "ename": "SyntaxError",
     "evalue": "invalid syntax (<ipython-input-49-41018b7faf1d>, line 1)",
     "output_type": "error",
     "traceback": [
      "\u001b[1;36m  File \u001b[1;32m\"<ipython-input-49-41018b7faf1d>\"\u001b[1;36m, line \u001b[1;32m1\u001b[0m\n\u001b[1;33m    new_entry.append{'fdsf':\"ajsdhfga\", 'adhjsgf':1837}\u001b[0m\n\u001b[1;37m                    ^\u001b[0m\n\u001b[1;31mSyntaxError\u001b[0m\u001b[1;31m:\u001b[0m invalid syntax\n"
     ]
    }
   ],
   "source": [
    "new_entry.append{'fdsf':\"ajsdhfga\", 'adhjsgf':1837}"
   ]
  },
  {
   "cell_type": "code",
   "execution_count": 59,
   "metadata": {},
   "outputs": [],
   "source": [
    "new_entry.update({'val_loss': 4})"
   ]
  },
  {
   "cell_type": "code",
   "execution_count": 61,
   "metadata": {},
   "outputs": [
    {
     "data": {
      "text/plain": [
       "{'adhjsgf': 1837, 'fdsf': 'ajsdhfga', 'val_loss': 4}"
      ]
     },
     "execution_count": 61,
     "metadata": {},
     "output_type": "execute_result"
    }
   ],
   "source": [
    "new_entry"
   ]
  },
  {
   "cell_type": "code",
   "execution_count": 22,
   "metadata": {},
   "outputs": [],
   "source": [
    "df1 = df1.sort_values('val_acc')"
   ]
  },
  {
   "cell_type": "code",
   "execution_count": 23,
   "metadata": {},
   "outputs": [
    {
     "data": {
      "text/html": [
       "<div>\n",
       "<style scoped>\n",
       "    .dataframe tbody tr th:only-of-type {\n",
       "        vertical-align: middle;\n",
       "    }\n",
       "\n",
       "    .dataframe tbody tr th {\n",
       "        vertical-align: top;\n",
       "    }\n",
       "\n",
       "    .dataframe thead th {\n",
       "        text-align: right;\n",
       "    }\n",
       "</style>\n",
       "<table border=\"1\" class=\"dataframe\">\n",
       "  <thead>\n",
       "    <tr style=\"text-align: right;\">\n",
       "      <th></th>\n",
       "      <th>epoch</th>\n",
       "      <th>acc</th>\n",
       "      <th>loss</th>\n",
       "      <th>lr</th>\n",
       "      <th>val_acc</th>\n",
       "      <th>val_loss</th>\n",
       "    </tr>\n",
       "  </thead>\n",
       "  <tbody>\n",
       "    <tr>\n",
       "      <th>1</th>\n",
       "      <td>1</td>\n",
       "      <td>0.54000</td>\n",
       "      <td>0.540000</td>\n",
       "      <td>0.540000</td>\n",
       "      <td>0.540000</td>\n",
       "      <td>0.54000</td>\n",
       "    </tr>\n",
       "    <tr>\n",
       "      <th>0</th>\n",
       "      <td>0</td>\n",
       "      <td>0.79169</td>\n",
       "      <td>0.577517</td>\n",
       "      <td>0.000691</td>\n",
       "      <td>0.812187</td>\n",
       "      <td>0.55109</td>\n",
       "    </tr>\n",
       "  </tbody>\n",
       "</table>\n",
       "</div>"
      ],
      "text/plain": [
       "   epoch      acc      loss        lr   val_acc  val_loss\n",
       "1      1  0.54000  0.540000  0.540000  0.540000   0.54000\n",
       "0      0  0.79169  0.577517  0.000691  0.812187   0.55109"
      ]
     },
     "execution_count": 23,
     "metadata": {},
     "output_type": "execute_result"
    }
   ],
   "source": [
    "df1"
   ]
  },
  {
   "cell_type": "code",
   "execution_count": 52,
   "metadata": {},
   "outputs": [],
   "source": [
    "a= df1.head(1)"
   ]
  },
  {
   "cell_type": "code",
   "execution_count": 53,
   "metadata": {},
   "outputs": [
    {
     "data": {
      "text/html": [
       "<div>\n",
       "<style scoped>\n",
       "    .dataframe tbody tr th:only-of-type {\n",
       "        vertical-align: middle;\n",
       "    }\n",
       "\n",
       "    .dataframe tbody tr th {\n",
       "        vertical-align: top;\n",
       "    }\n",
       "\n",
       "    .dataframe thead th {\n",
       "        text-align: right;\n",
       "    }\n",
       "</style>\n",
       "<table border=\"1\" class=\"dataframe\">\n",
       "  <thead>\n",
       "    <tr style=\"text-align: right;\">\n",
       "      <th></th>\n",
       "      <th>epoch</th>\n",
       "      <th>acc</th>\n",
       "      <th>loss</th>\n",
       "      <th>lr</th>\n",
       "      <th>val_acc</th>\n",
       "      <th>val_loss</th>\n",
       "    </tr>\n",
       "  </thead>\n",
       "  <tbody>\n",
       "    <tr>\n",
       "      <th>1</th>\n",
       "      <td>1</td>\n",
       "      <td>0.54</td>\n",
       "      <td>0.54</td>\n",
       "      <td>0.54</td>\n",
       "      <td>0.54</td>\n",
       "      <td>0.54</td>\n",
       "    </tr>\n",
       "  </tbody>\n",
       "</table>\n",
       "</div>"
      ],
      "text/plain": [
       "   epoch   acc  loss    lr  val_acc  val_loss\n",
       "1      1  0.54  0.54  0.54     0.54      0.54"
      ]
     },
     "execution_count": 53,
     "metadata": {},
     "output_type": "execute_result"
    }
   ],
   "source": [
    "a"
   ]
  },
  {
   "cell_type": "code",
   "execution_count": 54,
   "metadata": {},
   "outputs": [],
   "source": [
    "b=a.to_dict()"
   ]
  },
  {
   "cell_type": "code",
   "execution_count": 55,
   "metadata": {},
   "outputs": [
    {
     "data": {
      "text/plain": [
       "{'acc': {1: 0.54},\n",
       " 'epoch': {1: 1},\n",
       " 'loss': {1: 0.54},\n",
       " 'lr': {1: 0.54},\n",
       " 'val_acc': {1: 0.54},\n",
       " 'val_loss': {1: 0.54}}"
      ]
     },
     "execution_count": 55,
     "metadata": {},
     "output_type": "execute_result"
    }
   ],
   "source": [
    "b"
   ]
  },
  {
   "cell_type": "code",
   "execution_count": 56,
   "metadata": {},
   "outputs": [],
   "source": [
    "qew_entry=new_entry.update(b)"
   ]
  },
  {
   "cell_type": "code",
   "execution_count": 57,
   "metadata": {},
   "outputs": [
    {
     "name": "stdout",
     "output_type": "stream",
     "text": [
      "None\n"
     ]
    }
   ],
   "source": [
    "print(new_entry)"
   ]
  },
  {
   "cell_type": "code",
   "execution_count": 67,
   "metadata": {},
   "outputs": [],
   "source": [
    "c={**new_entry,**b}"
   ]
  },
  {
   "cell_type": "code",
   "execution_count": 68,
   "metadata": {},
   "outputs": [
    {
     "data": {
      "text/plain": [
       "{'acc': {1: 0.54},\n",
       " 'adhjsgf': 1837,\n",
       " 'epoch': {1: 1},\n",
       " 'fdsf': 'ajsdhfga',\n",
       " 'loss': {1: 0.54},\n",
       " 'lr': {1: 0.54},\n",
       " 'val_acc': {1: 0.54},\n",
       " 'val_loss': {1: 0.54}}"
      ]
     },
     "execution_count": 68,
     "metadata": {},
     "output_type": "execute_result"
    }
   ],
   "source": [
    "c"
   ]
  },
  {
   "cell_type": "code",
   "execution_count": null,
   "metadata": {},
   "outputs": [],
   "source": []
  }
 ],
 "metadata": {
  "kernelspec": {
   "display_name": "Python 3",
   "language": "python",
   "name": "python3"
  },
  "language_info": {
   "codemirror_mode": {
    "name": "ipython",
    "version": 3
   },
   "file_extension": ".py",
   "mimetype": "text/x-python",
   "name": "python",
   "nbconvert_exporter": "python",
   "pygments_lexer": "ipython3",
   "version": "3.5.5"
  }
 },
 "nbformat": 4,
 "nbformat_minor": 2
}
