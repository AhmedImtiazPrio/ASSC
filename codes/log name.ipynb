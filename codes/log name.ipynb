{
 "cells": [
  {
   "cell_type": "code",
   "execution_count": 15,
   "metadata": {},
   "outputs": [
    {
     "name": "stdout",
     "output_type": "stream",
     "text": [
      "E:/SleepWell/ASSC-master/codes/_/2018-12-22 12:39:18.408754\n",
      "E/SleepWell/ASSC-master/codes/_/2018-12-22 123918.408754\n"
     ]
    }
   ],
   "source": [
    "import os\n",
    "foldname = os.getcwd()\n",
    "\n",
    "\n",
    "from datetime import datetime\n",
    "model_dir = os.path.join(os.getcwd(),'..','models').replace('\\\\','/')\n",
    "fold_dir = os.path.join(os.getcwd(),'..','data').replace('\\\\','/')\n",
    "log_dir = os.path.join(os.getcwd(),'..','logs').replace('\\\\','/')\n",
    "log_name= os.path.join(foldname,'_',str(datetime.now()) ).replace('\\\\','/')\n",
    "#log_name = (foldname + '_' + str(datetime.now())).replace(' ','').replace('\\\\','/')\n",
    "print(os.path.join(model_dir,log_name))\n",
    "if not os.path.exists(os.path.join(model_dir,log_name)):\n",
    "    new_dir =(os.path.join(os.getcwd(),'..','models',log_name)).replace('\\\\','/').replace(':','')\n",
    "    print(new_dir)\n",
    "    os.makedirs(new_dir)\n",
    "checkpoint_name = os.path.join(model_dir,log_name,'weights.{epoch04d}-{val_acc.4f}.hdf5').replace(':','') # make sure separate\n",
    "\t\t\t\t\t\t\t\t\t\t\t\t\t\t\t\t\t\t\t\t\t\t# folder for each log_name\n",
    "results_file = os.path.join(os.getcwd(), '..', 'results.csv').replace('\\\\','/')\n"
   ]
  },
  {
   "cell_type": "code",
   "execution_count": 16,
   "metadata": {},
   "outputs": [
    {
     "name": "stdout",
     "output_type": "stream",
     "text": [
      "E:/SleepWell/ASSC-master/codes/../logs\n",
      "E:/SleepWell/ASSC-master/codes/_/2018-12-22 12:39:18.408754\n",
      "E:/SleepWell/ASSC-master/codes/_/2018-12-22 12:39:20.688219\n"
     ]
    }
   ],
   "source": [
    "print(log_dir)\n",
    "print(log_name)\n",
    "os.path.join(log_dir, log_name, 'training.csv').replace('\\\\','/').replace(':','')\n",
    "log_name= os.path.join(foldname,'_',str(datetime.now()) ).replace('\\\\','/')\n",
    "print(log_name)\n"
   ]
  },
  {
   "cell_type": "code",
   "execution_count": 6,
   "metadata": {},
   "outputs": [],
   "source": [
    "csv_logger = CSVLogger(os.path.join(log_dir, log_name, 'training.csv').replace('\\\\','/'))"
   ]
  },
  {
   "cell_type": "code",
   "execution_count": 5,
   "metadata": {},
   "outputs": [
    {
     "name": "stderr",
     "output_type": "stream",
     "text": [
      "C:\\Users\\User\\Anaconda3\\envs\\thesis\\lib\\site-packages\\h5py\\__init__.py:36: FutureWarning: Conversion of the second argument of issubdtype from `float` to `np.floating` is deprecated. In future, it will be treated as `np.float64 == np.dtype(float).type`.\n",
      "  from ._conv import register_converters as _register_converters\n",
      "Using TensorFlow backend.\n"
     ]
    }
   ],
   "source": [
    "from keras.callbacks import ModelCheckpoint, TensorBoard, CSVLogger, Callback"
   ]
  },
  {
   "cell_type": "code",
   "execution_count": 17,
   "metadata": {},
   "outputs": [
    {
     "data": {
      "text/plain": [
       "'haijabi2018-12-22 12:47:31.687329'"
      ]
     },
     "execution_count": 17,
     "metadata": {},
     "output_type": "execute_result"
    }
   ],
   "source": [
    "foldname = 'haijabi'\n",
    "foldname + str(datetime.now())"
   ]
  },
  {
   "cell_type": "code",
   "execution_count": 19,
   "metadata": {},
   "outputs": [
    {
     "data": {
      "text/plain": [
       "'E:/SleepWell/ASSC-master/codes/_/2018-12-22 12:39:20.688219'"
      ]
     },
     "execution_count": 19,
     "metadata": {},
     "output_type": "execute_result"
    }
   ],
   "source": [
    "os.path.join(model_dir,log_name)"
   ]
  },
  {
   "cell_type": "code",
   "execution_count": 20,
   "metadata": {},
   "outputs": [
    {
     "data": {
      "text/plain": [
       "'E:/SleepWell/ASSC-master/codes/_/2018-12-22 12:39:20.688219'"
      ]
     },
     "execution_count": 20,
     "metadata": {},
     "output_type": "execute_result"
    }
   ],
   "source": [
    "(os.path.join(model_dir,log_name))"
   ]
  },
  {
   "cell_type": "code",
   "execution_count": 21,
   "metadata": {},
   "outputs": [
    {
     "data": {
      "text/plain": [
       "'E:/SleepWell/ASSC-master/codes/_/2018-12-22 12:39:20.688219/training.csv'"
      ]
     },
     "execution_count": 21,
     "metadata": {},
     "output_type": "execute_result"
    }
   ],
   "source": [
    "os.path.join(log_dir,log_name,'training.csv').replace('\\\\','/')"
   ]
  },
  {
   "cell_type": "code",
   "execution_count": 24,
   "metadata": {},
   "outputs": [
    {
     "data": {
      "text/plain": [
       "'E:/SleepWell/ASSC-master/codes/_/2018-12-22 12:39:20.688219/model.json'"
      ]
     },
     "execution_count": 24,
     "metadata": {},
     "output_type": "execute_result"
    }
   ],
   "source": [
    "os.path.join(model_dir,log_name,'model.json').replace('\\\\','/')"
   ]
  },
  {
   "cell_type": "code",
   "execution_count": 25,
   "metadata": {},
   "outputs": [
    {
     "name": "stdout",
     "output_type": "stream",
     "text": [
      "E:/SleepWell/ASSC-master/codes/../models\\haijabi_2018-12-2213:24:16.430079\n",
      "E/SleepWell/ASSC-master/codes/../models/haijabi_2018-12-22132416.430079\n"
     ]
    }
   ],
   "source": [
    "model_dir = os.path.join(os.getcwd(), '..', 'models').replace('\\\\', '/')\n",
    "fold_dir = os.path.join(os.getcwd(), '..', 'data').replace('\\\\', '/')\n",
    "log_dir = os.path.join(os.getcwd(), '..', 'logs').replace('\\\\', '/')\n",
    "log_name = foldname + '_' + str(datetime.now()).replace(' ', '').replace('\\\\', '/')\n",
    "print(os.path.join(model_dir, log_name))\n",
    "if not os.path.exists(os.path.join(model_dir, log_name)):\n",
    "    new_dir = (os.path.join(os.getcwd(), '..', 'models', log_name)).replace('\\\\', '/').replace(':', '')\n",
    "    print(new_dir)\n",
    "    os.makedirs(new_dir)\n",
    "checkpoint_name = os.path.join(model_dir, log_name,\n",
    "                                   'weights.{epoch04d}-{val_acc.4f}.hdf5'.replace(':', ''))  # make sure separate\n",
    "# folder for each log_name\n",
    "results_file = os.path.join(os.getcwd().replace('\\\\', '/'), '..', 'results.csv')"
   ]
  },
  {
   "cell_type": "code",
   "execution_count": 26,
   "metadata": {},
   "outputs": [
    {
     "data": {
      "text/plain": [
       "'E:\\\\SleepWell\\\\ASSC-master\\\\codes'"
      ]
     },
     "execution_count": 26,
     "metadata": {},
     "output_type": "execute_result"
    }
   ],
   "source": [
    "os.getcwd()"
   ]
  },
  {
   "cell_type": "code",
   "execution_count": 27,
   "metadata": {},
   "outputs": [
    {
     "data": {
      "text/plain": [
       "'E:/SleepWell/ASSC-master/codes/../models\\\\haijabi_2018-12-2213:24:16.430079'"
      ]
     },
     "execution_count": 27,
     "metadata": {},
     "output_type": "execute_result"
    }
   ],
   "source": [
    "os.path.join(model_dir, log_name)"
   ]
  },
  {
   "cell_type": "code",
   "execution_count": 49,
   "metadata": {},
   "outputs": [
    {
     "name": "stdout",
     "output_type": "stream",
     "text": [
      "E:/SleepWell/ASSC-master/models/haijabi2018-12-22 14:17:43.647116\n"
     ]
    }
   ],
   "source": [
    "model_dir = 'E:/SleepWell/ASSC-master/models'\n",
    "fold_dir = 'E:/SleepWell/ASSC-master/data'\n",
    "log_dir = 'E:/SleepWell/ASSC-master/logs'\n",
    "log_name = foldname + str(datetime.now())\n",
    "if not os.path.exists(os.path.join(model_dir, log_name)):\n",
    "    new_dir = (os.path.join(model_dir, log_name).replace('\\\\','/'))\n",
    "    print(new_dir)\n",
    "    #os.makedirs(new_dir)\n",
    "checkpoint_name = os.path.join(model_dir, log_name, 'weights.{epoch04d}-{val_acc.4f}.hdf5').replace('\\\\','/')\n",
    "results_file = os.path.join('E:/SleepWell/ASSC-master/', 'results.csv')\n",
    "\n"
   ]
  },
  {
   "cell_type": "code",
   "execution_count": 50,
   "metadata": {},
   "outputs": [],
   "source": [
    "trainingCSVdirectory = log_dir+'/'+log_name+'/'+'training.csv'\n",
    "    # with open(trainingCSVdirectory.replace('\\\\','/'), \"w\") as my_empty_csv:\n",
    "    #     # now you have an empty file already\n",
    "    #     pass\n",
    "csv_logger = CSVLogger(trainingCSVdirectory)"
   ]
  },
  {
   "cell_type": "code",
   "execution_count": 32,
   "metadata": {},
   "outputs": [
    {
     "data": {
      "text/plain": [
       "'E:/SleepWell/ASSC-master/models/haijabi2018-12-22 13:31:17.553317'"
      ]
     },
     "execution_count": 32,
     "metadata": {},
     "output_type": "execute_result"
    }
   ],
   "source": [
    "os.path.join(model_dir, log_name).replace('\\\\','/')"
   ]
  },
  {
   "cell_type": "code",
   "execution_count": 34,
   "metadata": {},
   "outputs": [
    {
     "data": {
      "text/plain": [
       "'E:\\\\SleepWell\\\\ASSC-master\\\\codes'"
      ]
     },
     "execution_count": 34,
     "metadata": {},
     "output_type": "execute_result"
    }
   ],
   "source": [
    "os.getcwd()"
   ]
  },
  {
   "cell_type": "code",
   "execution_count": 36,
   "metadata": {},
   "outputs": [
    {
     "data": {
      "text/plain": [
       "'E:\\\\SleepWell\\\\ASSC-master\\\\codes\\\\habijabi'"
      ]
     },
     "execution_count": 36,
     "metadata": {},
     "output_type": "execute_result"
    }
   ],
   "source": [
    "os.path.join(os.getcwd(),'habijabi')"
   ]
  },
  {
   "cell_type": "code",
   "execution_count": 40,
   "metadata": {},
   "outputs": [
    {
     "data": {
      "text/plain": [
       "'E:/SleepWell/ASSC-master/logs/haijabi2018-12-22 13:31:17.553317/training.csv'"
      ]
     },
     "execution_count": 40,
     "metadata": {},
     "output_type": "execute_result"
    }
   ],
   "source": [
    "os.path.join(log_dir, log_name, 'training.csv').replace('\\\\', '/')"
   ]
  },
  {
   "cell_type": "code",
   "execution_count": 41,
   "metadata": {},
   "outputs": [
    {
     "data": {
      "text/plain": [
       "<keras.callbacks.CSVLogger at 0x133bb1b5470>"
      ]
     },
     "execution_count": 41,
     "metadata": {},
     "output_type": "execute_result"
    }
   ],
   "source": [
    "CSVLogger(os.path.join(log_dir, log_name, 'training.csv').replace('\\\\','/'))"
   ]
  },
  {
   "cell_type": "code",
   "execution_count": 42,
   "metadata": {},
   "outputs": [
    {
     "data": {
      "text/plain": [
       "<keras.callbacks.CSVLogger at 0x133bb1b53c8>"
      ]
     },
     "execution_count": 42,
     "metadata": {},
     "output_type": "execute_result"
    }
   ],
   "source": [
    "CSVLogger('sushmitasdf.csv')"
   ]
  },
  {
   "cell_type": "code",
   "execution_count": 44,
   "metadata": {},
   "outputs": [
    {
     "data": {
      "text/plain": [
       "'E:/SleepWell/ASSC-master/logs/haijabi2018-12-22 13:31:17.553317/training.csv'"
      ]
     },
     "execution_count": 44,
     "metadata": {},
     "output_type": "execute_result"
    }
   ],
   "source": [
    "(os.path.join(log_dir, log_name, 'training.csv').replace('\\\\','/'))"
   ]
  },
  {
   "cell_type": "code",
   "execution_count": 48,
   "metadata": {},
   "outputs": [],
   "source": [
    "with open(os.path.join('training.csv').replace('\\\\','/'), \"w\") as my_empty_csv:\n",
    "    pass\n",
    "csv_logger = CSVLogger(os.path.join(log_dir, log_name, 'training.csv').replace('\\\\','/'))"
   ]
  },
  {
   "cell_type": "code",
   "execution_count": 57,
   "metadata": {},
   "outputs": [
    {
     "ename": "OSError",
     "evalue": "[Errno 22] Invalid argument: 'E:/SleepWell/ASSC-master/logs/haijabi2018-12-22 14:17:43.647116/training.csv'",
     "output_type": "error",
     "traceback": [
      "\u001b[1;31m---------------------------------------------------------------------------\u001b[0m",
      "\u001b[1;31mOSError\u001b[0m                                   Traceback (most recent call last)",
      "\u001b[1;32m<ipython-input-57-d3b2ce2dc082>\u001b[0m in \u001b[0;36m<module>\u001b[1;34m()\u001b[0m\n\u001b[1;32m----> 1\u001b[1;33m \u001b[1;32mwith\u001b[0m \u001b[0mopen\u001b[0m\u001b[1;33m(\u001b[0m\u001b[0mos\u001b[0m\u001b[1;33m.\u001b[0m\u001b[0mpath\u001b[0m\u001b[1;33m.\u001b[0m\u001b[0mjoin\u001b[0m\u001b[1;33m(\u001b[0m\u001b[0mlog_dir\u001b[0m\u001b[1;33m,\u001b[0m \u001b[0mlog_name\u001b[0m\u001b[1;33m,\u001b[0m \u001b[1;34m'training.csv'\u001b[0m\u001b[1;33m)\u001b[0m\u001b[1;33m.\u001b[0m\u001b[0mreplace\u001b[0m\u001b[1;33m(\u001b[0m\u001b[1;34m'\\\\'\u001b[0m\u001b[1;33m,\u001b[0m \u001b[1;34m'/'\u001b[0m\u001b[1;33m)\u001b[0m\u001b[1;33m,\u001b[0m \u001b[1;34m\"w\"\u001b[0m\u001b[1;33m)\u001b[0m \u001b[1;32mas\u001b[0m \u001b[0mcsvfile\u001b[0m\u001b[1;33m:\u001b[0m\u001b[1;33m\u001b[0m\u001b[0m\n\u001b[0m\u001b[0;32m      2\u001b[0m     \u001b[0mcsv_logger\u001b[0m \u001b[1;33m=\u001b[0m \u001b[0mCSVLogger\u001b[0m\u001b[1;33m(\u001b[0m\u001b[0mcsvfile\u001b[0m\u001b[1;33m)\u001b[0m\u001b[1;33m\u001b[0m\u001b[0m\n",
      "\u001b[1;31mOSError\u001b[0m: [Errno 22] Invalid argument: 'E:/SleepWell/ASSC-master/logs/haijabi2018-12-22 14:17:43.647116/training.csv'"
     ]
    }
   ],
   "source": [
    "with open(os.path.join(log_dir, log_name, 'training.csv').replace('\\\\', '/'), \"w\") as csvfile:\n",
    "    csv_logger = CSVLogger(csvfile)\n"
   ]
  },
  {
   "cell_type": "code",
   "execution_count": 56,
   "metadata": {},
   "outputs": [
    {
     "data": {
      "text/plain": [
       "'haijabi2018-12-22 14:17:43.647116'"
      ]
     },
     "execution_count": 56,
     "metadata": {},
     "output_type": "execute_result"
    }
   ],
   "source": [
    "log_name"
   ]
  },
  {
   "cell_type": "code",
   "execution_count": 58,
   "metadata": {},
   "outputs": [
    {
     "ename": "OSError",
     "evalue": "[Errno 22] Invalid argument: 'E:/SleepWell/ASSC-master/models/haijabi2018-12-22 14:17:43.647116/model.json'",
     "output_type": "error",
     "traceback": [
      "\u001b[1;31m---------------------------------------------------------------------------\u001b[0m",
      "\u001b[1;31mOSError\u001b[0m                                   Traceback (most recent call last)",
      "\u001b[1;32m<ipython-input-58-3f097fc6574c>\u001b[0m in \u001b[0;36m<module>\u001b[1;34m()\u001b[0m\n\u001b[1;32m----> 1\u001b[1;33m \u001b[1;32mwith\u001b[0m \u001b[0mopen\u001b[0m\u001b[1;33m(\u001b[0m\u001b[0mos\u001b[0m\u001b[1;33m.\u001b[0m\u001b[0mpath\u001b[0m\u001b[1;33m.\u001b[0m\u001b[0mjoin\u001b[0m\u001b[1;33m(\u001b[0m\u001b[0mmodel_dir\u001b[0m\u001b[1;33m,\u001b[0m \u001b[0mlog_name\u001b[0m\u001b[1;33m,\u001b[0m \u001b[1;34m'model.json'\u001b[0m\u001b[1;33m)\u001b[0m\u001b[1;33m.\u001b[0m\u001b[0mreplace\u001b[0m\u001b[1;33m(\u001b[0m\u001b[1;34m'\\\\'\u001b[0m\u001b[1;33m,\u001b[0m\u001b[1;34m'/'\u001b[0m\u001b[1;33m)\u001b[0m\u001b[1;33m,\u001b[0m \u001b[1;34m\"w\"\u001b[0m\u001b[1;33m)\u001b[0m \u001b[1;32mas\u001b[0m \u001b[0mjson_file\u001b[0m\u001b[1;33m:\u001b[0m\u001b[1;33m\u001b[0m\u001b[0m\n\u001b[0m\u001b[0;32m      2\u001b[0m     \u001b[0mjson_file\u001b[0m\u001b[1;33m.\u001b[0m\u001b[0mwrite\u001b[0m\u001b[1;33m(\u001b[0m\u001b[0mmodel_json\u001b[0m\u001b[1;33m)\u001b[0m\u001b[1;33m\u001b[0m\u001b[0m\n",
      "\u001b[1;31mOSError\u001b[0m: [Errno 22] Invalid argument: 'E:/SleepWell/ASSC-master/models/haijabi2018-12-22 14:17:43.647116/model.json'"
     ]
    }
   ],
   "source": [
    "with open(os.path.join(model_dir, log_name, 'model.json').replace('\\\\','/'), \"w\") as json_file:\n",
    "    json_file.write(model_json)"
   ]
  },
  {
   "cell_type": "code",
   "execution_count": 59,
   "metadata": {},
   "outputs": [],
   "source": [
    "checkpoint_name = os.path.join(model_dir, log_name, 'weights.{epoch04d}-{val_acc.4f}.hdf5').replace('\\\\','/')"
   ]
  },
  {
   "cell_type": "code",
   "execution_count": 60,
   "metadata": {},
   "outputs": [
    {
     "name": "stdout",
     "output_type": "stream",
     "text": [
      "E:/SleepWell/ASSC-master/models/haijabi2018-12-22 14:17:43.647116/weights.{epoch04d}-{val_acc.4f}.hdf5\n"
     ]
    }
   ],
   "source": [
    "print(checkpoint_name)"
   ]
  },
  {
   "cell_type": "code",
   "execution_count": 61,
   "metadata": {},
   "outputs": [
    {
     "data": {
      "text/plain": [
       "'E:/SleepWell/ASSC-master/results.csv'"
      ]
     },
     "execution_count": 61,
     "metadata": {},
     "output_type": "execute_result"
    }
   ],
   "source": [
    "os.path.join('E:/SleepWell/ASSC-master/', 'results.csv')"
   ]
  },
  {
   "cell_type": "code",
   "execution_count": null,
   "metadata": {},
   "outputs": [],
   "source": []
  }
 ],
 "metadata": {
  "kernelspec": {
   "display_name": "Python 3",
   "language": "python",
   "name": "python3"
  },
  "language_info": {
   "codemirror_mode": {
    "name": "ipython",
    "version": 3
   },
   "file_extension": ".py",
   "mimetype": "text/x-python",
   "name": "python",
   "nbconvert_exporter": "python",
   "pygments_lexer": "ipython3",
   "version": "3.5.5"
  }
 },
 "nbformat": 4,
 "nbformat_minor": 2
}
