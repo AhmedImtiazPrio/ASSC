{
 "cells": [
  {
   "cell_type": "code",
   "execution_count": 3,
   "metadata": {},
   "outputs": [],
   "source": [
    "H = 128\n",
    "W = 128\n",
    "Bin = 32\n",
    "CR = 64\n",
    "# Compression Ratio = 64 , Binariser filter = 32\n",
    "# Compression Ratio = 32 , Binariser filter = 64\n",
    "# Compression Ratio = 128 , Binariser filter = 16"
   ]
  },
  {
   "cell_type": "code",
   "execution_count": 2,
   "metadata": {},
   "outputs": [
    {
     "name": "stderr",
     "output_type": "stream",
     "text": [
      "C:\\Users\\User\\Anaconda3\\envs\\thesis\\lib\\site-packages\\h5py\\__init__.py:36: FutureWarning: Conversion of the second argument of issubdtype from `float` to `np.floating` is deprecated. In future, it will be treated as `np.float64 == np.dtype(float).type`.\n",
      "  from ._conv import register_converters as _register_converters\n"
     ]
    }
   ],
   "source": [
    "import cv2 as cv # opencv\n",
    "import tensorflow as tf #tensorflow\n",
    "import glob # to read files\n",
    "import os\n",
    "import numpy as np\n",
    "import matplotlib.pyplot as plt\n",
    "import concurrent.futures"
   ]
  },
  {
   "cell_type": "code",
   "execution_count": 7,
   "metadata": {
    "collapsed": true
   },
   "outputs": [],
   "source": [
    "# #Ignore if already resized\n",
    "# #Resizing to H X W\n",
    "\n",
    "# from PIL import Image\n",
    "# import os, sys\n",
    "# path = 'E:/ChestXray-NIHCC/images/'\n",
    "# dirs = os.listdir( path )\n",
    "\n",
    "# def resize():\n",
    "#     for item in dirs:\n",
    "#         if os.path.isfile(path+item):\n",
    "#             im = cv.imread(path+item)\n",
    "#             f, e = os.path.splitext(path+item)\n",
    "#             img = cv.resize(im, (H, W), interpolation = cv.INTER_AREA)\n",
    "#             cv.imwrite(f+'rs.png', img)\n",
    "\n",
    "# resize()"
   ]
  },
  {
   "cell_type": "code",
   "execution_count": 3,
   "metadata": {},
   "outputs": [
    {
     "name": "stdout",
     "output_type": "stream",
     "text": [
      "(24999,)\n",
      "E:/thesis final/Data128\\00000001_002rs.png\n"
     ]
    }
   ],
   "source": [
    "dirImage = 'E:/thesis final/Data128'\n",
    "\n",
    "# filenames = []\n",
    "filenames = glob.glob(dirImage + \"/*\" + \".png\")\n",
    "\n",
    "print(np.shape(filenames))\n",
    "print(filenames[2])"
   ]
  },
  {
   "cell_type": "code",
   "execution_count": 4,
   "metadata": {},
   "outputs": [
    {
     "name": "stdout",
     "output_type": "stream",
     "text": [
      "(24999, 128, 128)\n",
      "(24999, 128, 128, 1)\n"
     ]
    }
   ],
   "source": [
    "images = []\n",
    "for file in filenames:\n",
    "    img = np.asarray(cv.imread(file, 0))\n",
    "    \n",
    "    ######## এইখানে কাটাকুটি করতে হবে কিছু #############\n",
    "    \n",
    "    \n",
    "    images.append(img)\n",
    "images = np.asarray(images)\n",
    "print(np.shape(images))\n",
    "\n",
    "total = len(filenames)\n",
    "images = np.reshape(images, (total, H, W, 1))\n",
    "print(np.shape(images))"
   ]
  },
  {
   "cell_type": "code",
   "execution_count": null,
   "metadata": {},
   "outputs": [
    {
     "name": "stdout",
     "output_type": "stream",
     "text": [
      "(128, 128, 1)\n"
     ]
    }
   ],
   "source": [
    "print(np.shape(images[0]))\n",
    "# cv.imshow('img', images[2002])\n",
    "# cv.waitKey(0)\n",
    "# cv.destroyAllWindows()"
   ]
  },
  {
   "cell_type": "code",
   "execution_count": 5,
   "metadata": {},
   "outputs": [
    {
     "name": "stdout",
     "output_type": "stream",
     "text": [
      "(24999, 128, 128, 1)\n"
     ]
    }
   ],
   "source": [
    "print(np.shape(images))"
   ]
  },
  {
   "cell_type": "code",
   "execution_count": 6,
   "metadata": {
    "collapsed": true
   },
   "outputs": [],
   "source": [
    "tsize = 10000\n",
    "train_images = images[ :tsize, :, :] \n",
    "test_images = images[ tsize: tsize+500, :, :]\n",
    "valid_images = images[ tsize+500:tsize+1500 , :, :]"
   ]
  },
  {
   "cell_type": "code",
   "execution_count": 5,
   "metadata": {
    "collapsed": true
   },
   "outputs": [],
   "source": [
    "# from sklearn import model_selection\n",
    "# seed = 7\n",
    "# test_size= 0.1\n",
    "# X_train, X_test, Y_train, Y_test = model_selection.train_test_split(train_images, train_images, test_size=test_size, random_state=seed)"
   ]
  },
  {
   "cell_type": "code",
   "execution_count": 7,
   "metadata": {},
   "outputs": [
    {
     "name": "stdout",
     "output_type": "stream",
     "text": [
      "(10000, 128, 128, 1)\n",
      "(500, 128, 128, 1)\n",
      "(1000, 128, 128, 1)\n"
     ]
    }
   ],
   "source": [
    "print(np.shape(train_images))\n",
    "print(np.shape(test_images))\n",
    "print(np.shape(valid_images))"
   ]
  },
  {
   "cell_type": "code",
   "execution_count": 8,
   "metadata": {},
   "outputs": [
    {
     "name": "stderr",
     "output_type": "stream",
     "text": [
      "Using TensorFlow backend.\n"
     ]
    }
   ],
   "source": [
    "from keras.utils.np_utils import to_categorical\n",
    "from __future__ import division\n",
    "\n",
    "\n",
    "x_train = train_images/255\n",
    "x_test = test_images/255\n",
    "x_valid = valid_images/255\n",
    "\n",
    "\n",
    "\n",
    "y_train = x_train\n",
    "y_test= x_test\n",
    "y_valid = x_valid\n",
    "\n"
   ]
  },
  {
   "cell_type": "code",
   "execution_count": 9,
   "metadata": {},
   "outputs": [
    {
     "name": "stdout",
     "output_type": "stream",
     "text": [
      "(10000, 128, 128, 1) (10000, 128, 128, 1)\n",
      "(1000, 128, 128, 1) (1000, 128, 128, 1)\n",
      "(500, 128, 128, 1) (500, 128, 128, 1)\n"
     ]
    }
   ],
   "source": [
    "print(np.shape(x_train), np.shape(y_train))\n",
    "print(np.shape(x_valid), np.shape(y_valid))\n",
    "print(np.shape(x_test), np.shape(y_test))"
   ]
  },
  {
   "cell_type": "code",
   "execution_count": 1,
   "metadata": {},
   "outputs": [
    {
     "name": "stderr",
     "output_type": "stream",
     "text": [
      "C:\\Users\\User\\Anaconda3\\envs\\thesis\\lib\\site-packages\\h5py\\__init__.py:36: FutureWarning: Conversion of the second argument of issubdtype from `float` to `np.floating` is deprecated. In future, it will be treated as `np.float64 == np.dtype(float).type`.\n",
      "  from ._conv import register_converters as _register_converters\n",
      "Using TensorFlow backend.\n"
     ]
    }
   ],
   "source": [
    "import keras\n",
    "from keras.utils.np_utils import to_categorical\n",
    "from keras.models import Sequential, Model\n",
    "from keras.layers import Dense, Dropout, Flatten, Conv2D, MaxPooling2D, BatchNormalization, Reshape, Lambda, Input, concatenate\n",
    "from keras.optimizers import Adam\n",
    "from keras.preprocessing.image import ImageDataGenerator\n",
    "from keras.callbacks import LearningRateScheduler\n",
    "from keras.models import Sequential\n",
    "from keras.layers.convolutional_recurrent import ConvLSTM2D\n",
    "from keras.callbacks import ModelCheckpoint, LearningRateScheduler, EarlyStopping, ReduceLROnPlateau\n",
    "from keras import backend as K\n",
    "from keras.models import load_model\n",
    "import h5py\n",
    "from keras.layers import average"
   ]
  },
  {
   "cell_type": "code",
   "execution_count": 78,
   "metadata": {},
   "outputs": [
    {
     "data": {
      "text/plain": [
       "'float32'"
      ]
     },
     "execution_count": 78,
     "metadata": {},
     "output_type": "execute_result"
    }
   ],
   "source": [
    "# K.set_floatx('float32')\n",
    "# K.floatx()"
   ]
  },
  {
   "cell_type": "code",
   "execution_count": 4,
   "metadata": {},
   "outputs": [],
   "source": [
    "##Encoder##\n",
    "\n",
    "input_img = Input(shape=(H, W, 1))\n",
    "\n",
    "e1 = Conv2D(64, kernel_size=(3, 3), strides=(2,2), activation='relu', padding= 'same')(input_img)\n",
    "\n",
    "e2 = MaxPooling2D(pool_size=(2, 2))(input_img)\n",
    "e2 = Conv2D(64, kernel_size=(1, 1), strides=(1,1), activation='relu', padding= 'same')(e2)\n",
    "\n",
    "e1 = average([e1, e2])\n",
    "\n",
    "e1 = Reshape((-1, 64, 64, 64))(e1)    #change this for different size of images\n",
    "\n",
    "elstm1 = ConvLSTM2D(256, (3, 3), input_shape= (None, 64,64, 64), padding='same', return_sequences=True, strides=(2,2))(e1)\n",
    "\n",
    "elstm2 = ConvLSTM2D(512, (3, 3), padding='same', return_sequences=True, strides=(2,2))(elstm1)\n",
    "\n",
    "\n",
    "elstm3 = ConvLSTM2D(512, (3, 3), padding='same', return_sequences=False, strides=(2,2))(elstm2)\n",
    "\n",
    "#model.add(BatchNormalization(axis=-1))"
   ]
  },
  {
   "cell_type": "code",
   "execution_count": 5,
   "metadata": {},
   "outputs": [],
   "source": [
    "############# binariser ######################################\n",
    "b = Conv2D(Bin, kernel_size=(1, 1), strides=(1,1), activation='relu', padding= 'valid')(elstm3)\n",
    "\n",
    "def cast16(z):\n",
    "    return K.cast(z, dtype='float16')\n",
    "\n",
    "xx = Lambda(cast16)(b)\n",
    "\n",
    "def cast32(z):\n",
    "    return K.cast(z, dtype='float32')\n",
    "\n",
    "yy = Lambda(cast32)(xx)"
   ]
  },
  {
   "cell_type": "code",
   "execution_count": 6,
   "metadata": {},
   "outputs": [],
   "source": [
    "############# decoder ##############################\n",
    "\n",
    "\n",
    "d1 = Conv2D(512, kernel_size=(1, 1), strides=(1,1), activation='relu', padding= 'valid')(yy)\n",
    "\n",
    "d1 = Reshape((-1, 8, 8, 512))(d1)    #change this for different size of images\n",
    "\n",
    "\n",
    "dlstm1 = ConvLSTM2D(512, (2, 2), input_shape=(None, 1, 8, 8, 512), padding='same', return_sequences=False, strides=(1,1))(d1)\n",
    "dlstm1_ = ConvLSTM2D(512, (1, 1), input_shape=(None, 1, 8, 8, 512), padding='same', return_sequences=False, strides=(1,1))(d1)\n",
    "\n",
    "#combine\n",
    "comb1 = average([dlstm1, dlstm1_])\n",
    "\n",
    "comb1 = Reshape((-1, 16, 16, 128))(comb1)\n",
    "\n",
    "\n",
    "dlstm2 = ConvLSTM2D(filters=512, kernel_size=(3, 3), padding='same', return_sequences=True, strides=(1,1))(comb1)\n",
    "dlstm2_ = ConvLSTM2D(filters=512, kernel_size=(1, 1), padding='same', return_sequences=True, strides=(1,1))(comb1)\n",
    "\n",
    "#combine\n",
    "comb2 = average([dlstm2, dlstm2_])\n",
    "\n",
    "\n",
    "\n",
    "comb2 = Reshape((-1, 32, 32, 128))(comb2)\n",
    "\n",
    "\n",
    "dlstm3 = ConvLSTM2D(filters=256, kernel_size=(2, 2), padding='same', return_sequences=True, strides=(1,1))(comb2)\n",
    "dlstm3_ = ConvLSTM2D(filters=256, kernel_size=(1, 1), padding='same', return_sequences=True, strides=(1,1))(comb2)\n",
    "\n",
    "#combine\n",
    "comb3 = average([dlstm3, dlstm3_])\n",
    "\n",
    "comb3 = Reshape((-1, 64, 64, 64))(comb3)    \n",
    "\n",
    "\n",
    "dlstm4 = ConvLSTM2D(filters=128, kernel_size=(2, 2), padding='same', return_sequences=True, strides=(1,1))(comb3)\n",
    "dlstm4_ = ConvLSTM2D(filters=128, kernel_size=(1, 1), padding='same', return_sequences=True, strides=(1,1))(comb3)\n",
    "\n",
    "#combine\n",
    "comb4 = average([dlstm4, dlstm4_])\n",
    "\n",
    "comb4 = Reshape((H, W, 32))(comb4)\n",
    "\n",
    "\n",
    "d2 = Conv2D(1, (1, 1), strides=(1,1), input_shape=(None, H, W, 32), activation='relu', padding= 'valid')(comb4)\n"
   ]
  },
  {
   "cell_type": "code",
   "execution_count": 7,
   "metadata": {},
   "outputs": [],
   "source": [
    "model = Model(inputs = input_img, outputs = d2)"
   ]
  },
  {
   "cell_type": "code",
   "execution_count": 8,
   "metadata": {},
   "outputs": [
    {
     "name": "stdout",
     "output_type": "stream",
     "text": [
      "__________________________________________________________________________________________________\n",
      "Layer (type)                    Output Shape         Param #     Connected to                     \n",
      "==================================================================================================\n",
      "input_1 (InputLayer)            (None, 128, 128, 1)  0                                            \n",
      "__________________________________________________________________________________________________\n",
      "max_pooling2d_1 (MaxPooling2D)  (None, 64, 64, 1)    0           input_1[0][0]                    \n",
      "__________________________________________________________________________________________________\n",
      "conv2d_1 (Conv2D)               (None, 64, 64, 64)   640         input_1[0][0]                    \n",
      "__________________________________________________________________________________________________\n",
      "conv2d_2 (Conv2D)               (None, 64, 64, 64)   128         max_pooling2d_1[0][0]            \n",
      "__________________________________________________________________________________________________\n",
      "average_1 (Average)             (None, 64, 64, 64)   0           conv2d_1[0][0]                   \n",
      "                                                                 conv2d_2[0][0]                   \n",
      "__________________________________________________________________________________________________\n",
      "reshape_1 (Reshape)             (None, 1, 64, 64, 64 0           average_1[0][0]                  \n",
      "__________________________________________________________________________________________________\n",
      "conv_lst_m2d_1 (ConvLSTM2D)     (None, 1, 32, 32, 25 2950144     reshape_1[0][0]                  \n",
      "__________________________________________________________________________________________________\n",
      "conv_lst_m2d_2 (ConvLSTM2D)     (None, 1, 16, 16, 51 14157824    conv_lst_m2d_1[0][0]             \n",
      "__________________________________________________________________________________________________\n",
      "conv_lst_m2d_3 (ConvLSTM2D)     (None, 8, 8, 512)    18876416    conv_lst_m2d_2[0][0]             \n",
      "__________________________________________________________________________________________________\n",
      "conv2d_3 (Conv2D)               (None, 8, 8, 32)     16416       conv_lst_m2d_3[0][0]             \n",
      "__________________________________________________________________________________________________\n",
      "lambda_1 (Lambda)               (None, 8, 8, 32)     0           conv2d_3[0][0]                   \n",
      "__________________________________________________________________________________________________\n",
      "lambda_2 (Lambda)               (None, 8, 8, 32)     0           lambda_1[0][0]                   \n",
      "__________________________________________________________________________________________________\n",
      "conv2d_4 (Conv2D)               (None, 8, 8, 512)    16896       lambda_2[0][0]                   \n",
      "__________________________________________________________________________________________________\n",
      "reshape_2 (Reshape)             (None, 1, 8, 8, 512) 0           conv2d_4[0][0]                   \n",
      "__________________________________________________________________________________________________\n",
      "conv_lst_m2d_4 (ConvLSTM2D)     (None, 8, 8, 512)    8390656     reshape_2[0][0]                  \n",
      "__________________________________________________________________________________________________\n",
      "conv_lst_m2d_5 (ConvLSTM2D)     (None, 8, 8, 512)    2099200     reshape_2[0][0]                  \n",
      "__________________________________________________________________________________________________\n",
      "average_2 (Average)             (None, 8, 8, 512)    0           conv_lst_m2d_4[0][0]             \n",
      "                                                                 conv_lst_m2d_5[0][0]             \n",
      "__________________________________________________________________________________________________\n",
      "reshape_3 (Reshape)             (None, 1, 16, 16, 12 0           average_2[0][0]                  \n",
      "__________________________________________________________________________________________________\n",
      "conv_lst_m2d_6 (ConvLSTM2D)     (None, 1, 16, 16, 51 11798528    reshape_3[0][0]                  \n",
      "__________________________________________________________________________________________________\n",
      "conv_lst_m2d_7 (ConvLSTM2D)     (None, 1, 16, 16, 51 1312768     reshape_3[0][0]                  \n",
      "__________________________________________________________________________________________________\n",
      "average_3 (Average)             (None, 1, 16, 16, 51 0           conv_lst_m2d_6[0][0]             \n",
      "                                                                 conv_lst_m2d_7[0][0]             \n",
      "__________________________________________________________________________________________________\n",
      "reshape_4 (Reshape)             (None, 1, 32, 32, 12 0           average_3[0][0]                  \n",
      "__________________________________________________________________________________________________\n",
      "conv_lst_m2d_8 (ConvLSTM2D)     (None, 1, 32, 32, 25 1573888     reshape_4[0][0]                  \n",
      "__________________________________________________________________________________________________\n",
      "conv_lst_m2d_9 (ConvLSTM2D)     (None, 1, 32, 32, 25 394240      reshape_4[0][0]                  \n",
      "__________________________________________________________________________________________________\n",
      "average_4 (Average)             (None, 1, 32, 32, 25 0           conv_lst_m2d_8[0][0]             \n",
      "                                                                 conv_lst_m2d_9[0][0]             \n",
      "__________________________________________________________________________________________________\n",
      "reshape_5 (Reshape)             (None, 1, 64, 64, 64 0           average_4[0][0]                  \n",
      "__________________________________________________________________________________________________\n",
      "conv_lst_m2d_10 (ConvLSTM2D)    (None, 1, 64, 64, 12 393728      reshape_5[0][0]                  \n",
      "__________________________________________________________________________________________________\n",
      "conv_lst_m2d_11 (ConvLSTM2D)    (None, 1, 64, 64, 12 98816       reshape_5[0][0]                  \n",
      "__________________________________________________________________________________________________\n",
      "average_5 (Average)             (None, 1, 64, 64, 12 0           conv_lst_m2d_10[0][0]            \n",
      "                                                                 conv_lst_m2d_11[0][0]            \n",
      "__________________________________________________________________________________________________\n",
      "reshape_6 (Reshape)             (None, 128, 128, 32) 0           average_5[0][0]                  \n",
      "__________________________________________________________________________________________________\n",
      "conv2d_5 (Conv2D)               (None, 128, 128, 1)  33          reshape_6[0][0]                  \n",
      "==================================================================================================\n",
      "Total params: 62,080,321\n",
      "Trainable params: 62,080,321\n",
      "Non-trainable params: 0\n",
      "__________________________________________________________________________________________________\n"
     ]
    }
   ],
   "source": [
    "model.summary()"
   ]
  },
  {
   "cell_type": "code",
   "execution_count": 25,
   "metadata": {
    "collapsed": true
   },
   "outputs": [],
   "source": [
    "# model.layers[5].input.shape\n",
    "\n",
    "# int_model = Model(inputs = model.input, outputs = model.layers[5].output)\n",
    "# int_output = int_model.predict(x_test)"
   ]
  },
  {
   "cell_type": "code",
   "execution_count": 26,
   "metadata": {
    "collapsed": true
   },
   "outputs": [],
   "source": [
    "# with h5py.File(\"int_out.hdf5\", \"w\") as f:\n",
    "#     dset = f.create_dataset(\"int_out\", data = int_output)\n",
    "#     #, compression=\"gzip\""
   ]
  },
  {
   "cell_type": "code",
   "execution_count": 27,
   "metadata": {
    "collapsed": true
   },
   "outputs": [],
   "source": [
    "# with h5py.File(\"int_out.hdf5\", \"r\") as f:\n",
    "#     f['int_out'].shape"
   ]
  },
  {
   "cell_type": "code",
   "execution_count": 17,
   "metadata": {
    "collapsed": true
   },
   "outputs": [],
   "source": [
    "weight_path=\"{}_weights.best.hdf5\".format('CR'+ str(CR) +'addModB')\n",
    "\n",
    "\n",
    "checkpoint = ModelCheckpoint(weight_path, monitor='val_loss', verbose=1, \n",
    "                             save_best_only=True, mode='min', save_weights_only = True)\n",
    "\n",
    "early = EarlyStopping(monitor= \"val_loss\", \n",
    "                      mode= \"min\", \n",
    "                      patience= 25)\n",
    "callbacks_list = [checkpoint, early]\n"
   ]
  },
  {
   "cell_type": "code",
   "execution_count": 16,
   "metadata": {
    "collapsed": true
   },
   "outputs": [],
   "source": [
    "model.load_weights(weight_path)"
   ]
  },
  {
   "cell_type": "code",
   "execution_count": 19,
   "metadata": {
    "collapsed": true
   },
   "outputs": [],
   "source": [
    "# #Not needed now\n",
    "\n",
    "# def custom(y_true, y_pred):\n",
    "#     return K.mean(K.abs(y_pred - y_true)**3, axis=-1)"
   ]
  },
  {
   "cell_type": "code",
   "execution_count": 16,
   "metadata": {
    "collapsed": true
   },
   "outputs": [],
   "source": [
    "b_sz = 10\n",
    "epo = 100\n",
    "\n",
    "opt = Adam(lr=0.0001)\n",
    "model.compile(optimizer=opt, loss= 'mae', metrics=['accuracy'])\n",
    "\n",
    "# for i in range(5):\n",
    "#     model.fit(x_train[:5000], y_train[:5000], epochs = epo, batch_size= b_sz, callbacks = callbacks_list, validation_data = (x_valid, y_valid))\n",
    "#     model.load_weights(weight_path)"
   ]
  },
  {
   "cell_type": "code",
   "execution_count": 18,
   "metadata": {},
   "outputs": [
    {
     "ename": "OSError",
     "evalue": "Unable to open file (unable to open file: name = 'CR64addModB_weights.best.hdf5', errno = 2, error message = 'No such file or directory', flags = 0, o_flags = 0)",
     "output_type": "error",
     "traceback": [
      "\u001b[1;31m---------------------------------------------------------------------------\u001b[0m",
      "\u001b[1;31mOSError\u001b[0m                                   Traceback (most recent call last)",
      "\u001b[1;32m<ipython-input-18-f58e078e02d9>\u001b[0m in \u001b[0;36m<module>\u001b[1;34m()\u001b[0m\n\u001b[0;32m      1\u001b[0m \u001b[1;31m# load the best weights\u001b[0m\u001b[1;33m\u001b[0m\u001b[1;33m\u001b[0m\u001b[0m\n\u001b[1;32m----> 2\u001b[1;33m \u001b[0mmodel\u001b[0m\u001b[1;33m.\u001b[0m\u001b[0mload_weights\u001b[0m\u001b[1;33m(\u001b[0m\u001b[0mweight_path\u001b[0m\u001b[1;33m)\u001b[0m\u001b[1;33m\u001b[0m\u001b[0m\n\u001b[0m\u001b[0;32m      3\u001b[0m \u001b[1;33m\u001b[0m\u001b[0m\n\u001b[0;32m      4\u001b[0m \u001b[1;31m#model.save('compressV2.h5')  # creates a HDF5 file 'compressV2.h5'\u001b[0m\u001b[1;33m\u001b[0m\u001b[1;33m\u001b[0m\u001b[0m\n\u001b[0;32m      5\u001b[0m \u001b[1;31m#del model  # deletes the existing model\u001b[0m\u001b[1;33m\u001b[0m\u001b[1;33m\u001b[0m\u001b[0m\n",
      "\u001b[1;32m~\\Anaconda3\\envs\\thesis\\lib\\site-packages\\keras\\engine\\network.py\u001b[0m in \u001b[0;36mload_weights\u001b[1;34m(self, filepath, by_name, skip_mismatch, reshape)\u001b[0m\n\u001b[0;32m   1155\u001b[0m         \u001b[1;32mif\u001b[0m \u001b[0mh5py\u001b[0m \u001b[1;32mis\u001b[0m \u001b[1;32mNone\u001b[0m\u001b[1;33m:\u001b[0m\u001b[1;33m\u001b[0m\u001b[0m\n\u001b[0;32m   1156\u001b[0m             \u001b[1;32mraise\u001b[0m \u001b[0mImportError\u001b[0m\u001b[1;33m(\u001b[0m\u001b[1;34m'`load_weights` requires h5py.'\u001b[0m\u001b[1;33m)\u001b[0m\u001b[1;33m\u001b[0m\u001b[0m\n\u001b[1;32m-> 1157\u001b[1;33m         \u001b[1;32mwith\u001b[0m \u001b[0mh5py\u001b[0m\u001b[1;33m.\u001b[0m\u001b[0mFile\u001b[0m\u001b[1;33m(\u001b[0m\u001b[0mfilepath\u001b[0m\u001b[1;33m,\u001b[0m \u001b[0mmode\u001b[0m\u001b[1;33m=\u001b[0m\u001b[1;34m'r'\u001b[0m\u001b[1;33m)\u001b[0m \u001b[1;32mas\u001b[0m \u001b[0mf\u001b[0m\u001b[1;33m:\u001b[0m\u001b[1;33m\u001b[0m\u001b[0m\n\u001b[0m\u001b[0;32m   1158\u001b[0m             \u001b[1;32mif\u001b[0m \u001b[1;34m'layer_names'\u001b[0m \u001b[1;32mnot\u001b[0m \u001b[1;32min\u001b[0m \u001b[0mf\u001b[0m\u001b[1;33m.\u001b[0m\u001b[0mattrs\u001b[0m \u001b[1;32mand\u001b[0m \u001b[1;34m'model_weights'\u001b[0m \u001b[1;32min\u001b[0m \u001b[0mf\u001b[0m\u001b[1;33m:\u001b[0m\u001b[1;33m\u001b[0m\u001b[0m\n\u001b[0;32m   1159\u001b[0m                 \u001b[0mf\u001b[0m \u001b[1;33m=\u001b[0m \u001b[0mf\u001b[0m\u001b[1;33m[\u001b[0m\u001b[1;34m'model_weights'\u001b[0m\u001b[1;33m]\u001b[0m\u001b[1;33m\u001b[0m\u001b[0m\n",
      "\u001b[1;32m~\\Anaconda3\\envs\\thesis\\lib\\site-packages\\h5py\\_hl\\files.py\u001b[0m in \u001b[0;36m__init__\u001b[1;34m(self, name, mode, driver, libver, userblock_size, swmr, **kwds)\u001b[0m\n\u001b[0;32m    267\u001b[0m             \u001b[1;32mwith\u001b[0m \u001b[0mphil\u001b[0m\u001b[1;33m:\u001b[0m\u001b[1;33m\u001b[0m\u001b[0m\n\u001b[0;32m    268\u001b[0m                 \u001b[0mfapl\u001b[0m \u001b[1;33m=\u001b[0m \u001b[0mmake_fapl\u001b[0m\u001b[1;33m(\u001b[0m\u001b[0mdriver\u001b[0m\u001b[1;33m,\u001b[0m \u001b[0mlibver\u001b[0m\u001b[1;33m,\u001b[0m \u001b[1;33m**\u001b[0m\u001b[0mkwds\u001b[0m\u001b[1;33m)\u001b[0m\u001b[1;33m\u001b[0m\u001b[0m\n\u001b[1;32m--> 269\u001b[1;33m                 \u001b[0mfid\u001b[0m \u001b[1;33m=\u001b[0m \u001b[0mmake_fid\u001b[0m\u001b[1;33m(\u001b[0m\u001b[0mname\u001b[0m\u001b[1;33m,\u001b[0m \u001b[0mmode\u001b[0m\u001b[1;33m,\u001b[0m \u001b[0muserblock_size\u001b[0m\u001b[1;33m,\u001b[0m \u001b[0mfapl\u001b[0m\u001b[1;33m,\u001b[0m \u001b[0mswmr\u001b[0m\u001b[1;33m=\u001b[0m\u001b[0mswmr\u001b[0m\u001b[1;33m)\u001b[0m\u001b[1;33m\u001b[0m\u001b[0m\n\u001b[0m\u001b[0;32m    270\u001b[0m \u001b[1;33m\u001b[0m\u001b[0m\n\u001b[0;32m    271\u001b[0m                 \u001b[1;32mif\u001b[0m \u001b[0mswmr_support\u001b[0m\u001b[1;33m:\u001b[0m\u001b[1;33m\u001b[0m\u001b[0m\n",
      "\u001b[1;32m~\\Anaconda3\\envs\\thesis\\lib\\site-packages\\h5py\\_hl\\files.py\u001b[0m in \u001b[0;36mmake_fid\u001b[1;34m(name, mode, userblock_size, fapl, fcpl, swmr)\u001b[0m\n\u001b[0;32m     97\u001b[0m         \u001b[1;32mif\u001b[0m \u001b[0mswmr\u001b[0m \u001b[1;32mand\u001b[0m \u001b[0mswmr_support\u001b[0m\u001b[1;33m:\u001b[0m\u001b[1;33m\u001b[0m\u001b[0m\n\u001b[0;32m     98\u001b[0m             \u001b[0mflags\u001b[0m \u001b[1;33m|=\u001b[0m \u001b[0mh5f\u001b[0m\u001b[1;33m.\u001b[0m\u001b[0mACC_SWMR_READ\u001b[0m\u001b[1;33m\u001b[0m\u001b[0m\n\u001b[1;32m---> 99\u001b[1;33m         \u001b[0mfid\u001b[0m \u001b[1;33m=\u001b[0m \u001b[0mh5f\u001b[0m\u001b[1;33m.\u001b[0m\u001b[0mopen\u001b[0m\u001b[1;33m(\u001b[0m\u001b[0mname\u001b[0m\u001b[1;33m,\u001b[0m \u001b[0mflags\u001b[0m\u001b[1;33m,\u001b[0m \u001b[0mfapl\u001b[0m\u001b[1;33m=\u001b[0m\u001b[0mfapl\u001b[0m\u001b[1;33m)\u001b[0m\u001b[1;33m\u001b[0m\u001b[0m\n\u001b[0m\u001b[0;32m    100\u001b[0m     \u001b[1;32melif\u001b[0m \u001b[0mmode\u001b[0m \u001b[1;33m==\u001b[0m \u001b[1;34m'r+'\u001b[0m\u001b[1;33m:\u001b[0m\u001b[1;33m\u001b[0m\u001b[0m\n\u001b[0;32m    101\u001b[0m         \u001b[0mfid\u001b[0m \u001b[1;33m=\u001b[0m \u001b[0mh5f\u001b[0m\u001b[1;33m.\u001b[0m\u001b[0mopen\u001b[0m\u001b[1;33m(\u001b[0m\u001b[0mname\u001b[0m\u001b[1;33m,\u001b[0m \u001b[0mh5f\u001b[0m\u001b[1;33m.\u001b[0m\u001b[0mACC_RDWR\u001b[0m\u001b[1;33m,\u001b[0m \u001b[0mfapl\u001b[0m\u001b[1;33m=\u001b[0m\u001b[0mfapl\u001b[0m\u001b[1;33m)\u001b[0m\u001b[1;33m\u001b[0m\u001b[0m\n",
      "\u001b[1;32mh5py\\_objects.pyx\u001b[0m in \u001b[0;36mh5py._objects.with_phil.wrapper\u001b[1;34m()\u001b[0m\n",
      "\u001b[1;32mh5py\\_objects.pyx\u001b[0m in \u001b[0;36mh5py._objects.with_phil.wrapper\u001b[1;34m()\u001b[0m\n",
      "\u001b[1;32mh5py\\h5f.pyx\u001b[0m in \u001b[0;36mh5py.h5f.open\u001b[1;34m()\u001b[0m\n",
      "\u001b[1;31mOSError\u001b[0m: Unable to open file (unable to open file: name = 'CR64addModB_weights.best.hdf5', errno = 2, error message = 'No such file or directory', flags = 0, o_flags = 0)"
     ]
    }
   ],
   "source": [
    "# load the best weights\n",
    "model.load_weights(weight_path)\n",
    "\n",
    "#model.save('compressV2.h5')  # creates a HDF5 file 'compressV2.h5'\n",
    "#del model  # deletes the existing model\n",
    "\n",
    "# returns a compiled model\n",
    "# identical to the previous one\n",
    "#model = load_model('compressV2.h5')"
   ]
  },
  {
   "cell_type": "code",
   "execution_count": 10,
   "metadata": {
    "collapsed": true
   },
   "outputs": [],
   "source": [
    "# model = load_model('compressV2.h5')"
   ]
  },
  {
   "cell_type": "code",
   "execution_count": 19,
   "metadata": {},
   "outputs": [
    {
     "name": "stdout",
     "output_type": "stream",
     "text": [
      "500/500 [==============================] - 6s 11ms/step\n"
     ]
    },
    {
     "data": {
      "text/plain": [
       "[0.008988173017278313, 0.0129030762554612]"
      ]
     },
     "execution_count": 19,
     "metadata": {},
     "output_type": "execute_result"
    }
   ],
   "source": [
    "#Evaluating the model on test data\n",
    "model.evaluate(x_test, y_test, batch_size = 10)"
   ]
  },
  {
   "cell_type": "code",
   "execution_count": 20,
   "metadata": {
    "collapsed": true
   },
   "outputs": [],
   "source": [
    "#model.load_weights(weight_path)\n",
    "\n",
    "#Predicting the test data\n",
    "outputs = model.predict(x_test)"
   ]
  },
  {
   "cell_type": "code",
   "execution_count": 24,
   "metadata": {
    "collapsed": true
   },
   "outputs": [],
   "source": [
    "for i in range (0, outputs.shape[0]):\n",
    "    cv.imwrite('temp/'+str(i)+'res.png', outputs[i]*255)\n",
    "    cv.imwrite('temp/'+str(i)+'org.png', test_images[i])"
   ]
  },
  {
   "cell_type": "code",
   "execution_count": null,
   "metadata": {
    "collapsed": true
   },
   "outputs": [],
   "source": []
  }
 ],
 "metadata": {
  "kernelspec": {
   "display_name": "Python 3",
   "language": "python",
   "name": "python3"
  },
  "language_info": {
   "codemirror_mode": {
    "name": "ipython",
    "version": 3
   },
   "file_extension": ".py",
   "mimetype": "text/x-python",
   "name": "python",
   "nbconvert_exporter": "python",
   "pygments_lexer": "ipython3",
   "version": "3.5.5"
  }
 },
 "nbformat": 4,
 "nbformat_minor": 2
}
