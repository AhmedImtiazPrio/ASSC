{
 "cells": [
  {
   "cell_type": "code",
   "execution_count": null,
   "metadata": {},
   "outputs": [],
   "source": [
    "import cv2\n",
    "import keras\n",
    "from keras.preprocessing import image\n",
    "from keras.applications.vgg16 import preprocess_input, decode_predictions\n",
    "import numpy as np\n",
    "from modules import *\n",
    "from utils import *\n",
    "\n",
    "########## have to import a EEG snippet from somewhere\n",
    "#img_path = '/Users/fchollet/Downloads/creative_commons_elephant.jpg'\n",
    "df = pd.read_csv(\"E:/sleepEDFx/pat2cha3.csv\")\n",
    "EEG_sample = df.iloc[1002].values\n",
    "stage = EEG_sample[-2]\n",
    "EEG_sample = EEG_sample[:-2]\n",
    "EEG_sample = np.expand_dims(EEG_sample,axis=-1)\n",
    "EEG_sample = np.expand_dims(EEG_sample, axis=0)\n",
    "\n",
    "from keras.models import model_from_json\n",
    "\n",
    "# Model reconstruction from JSON file\n",
    "with open('E:/SleepWell/ASSC/models/allDataChannel1_2019-01-05 15-58-12.139755/model.json', 'r') as f:\n",
    "    model = model_from_json(f.read(), {'Scale': Scale})\n",
    "\n",
    "# Load weights into the new model\n",
    "model.load_weights('E:/SleepWell/ASSC/models/allDataChannel1_2019-01-05 15-58-12.139755/weights.0001-0.8122.hdf5')\n",
    "val= int(stage)-1\n",
    "\n"
   ]
  },
  {
   "cell_type": "code",
   "execution_count": null,
   "metadata": {},
   "outputs": [],
   "source": []
  }
 ],
 "metadata": {
  "kernelspec": {
   "display_name": "Python 3",
   "language": "python",
   "name": "python3"
  },
  "language_info": {
   "codemirror_mode": {
    "name": "ipython",
    "version": 3
   },
   "file_extension": ".py",
   "mimetype": "text/x-python",
   "name": "python",
   "nbconvert_exporter": "python",
   "pygments_lexer": "ipython3",
   "version": "3.5.5"
  }
 },
 "nbformat": 4,
 "nbformat_minor": 2
}
