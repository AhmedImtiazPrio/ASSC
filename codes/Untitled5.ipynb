{
 "cells": [
  {
   "cell_type": "code",
   "execution_count": 95,
   "metadata": {},
   "outputs": [
    {
     "name": "stdout",
     "output_type": "stream",
     "text": [
      "[14, 30, 11, 15, 29, 8, 48, 24, 40, 54, 16, 37, 10, 39, 7, 18, 42, 57, 31]\n",
      "35\n",
      "21\n",
      "22\n",
      "43\n",
      "9\n",
      "56\n",
      "34\n",
      "58\n",
      "26\n",
      "6\n",
      "3\n",
      "55\n",
      "33\n",
      "2\n",
      "27\n",
      "13\n",
      "46\n",
      "45\n",
      "38\n",
      "47\n",
      "17\n",
      "5\n",
      "25\n",
      "32\n",
      "1\n",
      "52\n",
      "50\n",
      "12\n",
      "41\n",
      "51\n",
      "4\n",
      "19\n",
      "0\n",
      "23\n",
      "53\n",
      "49\n",
      "36\n",
      "20\n",
      "44\n",
      "60\n",
      "59\n",
      "28\n",
      "14\n",
      "30\n",
      "11\n",
      "15\n",
      "29\n",
      "8\n",
      "48\n",
      "24\n",
      "40\n",
      "54\n",
      "16\n",
      "37\n",
      "10\n",
      "39\n",
      "7\n",
      "18\n",
      "42\n",
      "57\n",
      "31\n",
      "Dataframe has been loaded\n"
     ]
    }
   ],
   "source": [
    "import pandas as pd\n",
    "def patientSplitter(randomIDfile,df2,split_portion):\n",
    "    import pandas as pd\n",
    "\n",
    "    df1 = pd.read_csv(randomIDfile,header=None)\n",
    "    split_portion_numer=int(split_portion*61)\n",
    "\n",
    "    train_pat_list = [int(each) for each in df1.iloc[:split_portion_numer].values]\n",
    "    test_pat_list = [int(each) for each in df1.iloc[split_portion_numer:].values]\n",
    "    print(test_pat_list)\n",
    "    df3 = []\n",
    "    df4 = []\n",
    "    for pat_ID in train_pat_list:\n",
    "        df3.append(df2[df2.patID == pat_ID].values)\n",
    "        print(pat_ID)\n",
    "    for pat_ID in test_pat_list:\n",
    "        df4.append(df2[df2.patID == pat_ID].values)\n",
    "        print(pat_ID)\n",
    "    del df2\n",
    "    df3 = pd.np.vstack(df3)\n",
    "    df4 = pd.np.vstack(df4)\n",
    "    X_train = df3[:, :3000]\n",
    "    X_test= df4[:, :3000]\n",
    "    Y_train= df3[:,3000]\n",
    "    Y_test= df4[:,3000]\n",
    "    pat_train=df3[:, 3002:3003]\n",
    "    pat_test= df4[:, 3002:3003]\n",
    "\n",
    "    del pd\n",
    "    return X_train,X_test,Y_train,Y_test,pat_train,pat_test\n",
    "\n",
    "df2 = pd.read_csv('E:/SleepWell/ASSC-master/data/purifiedallDataChannel2.csv', header=None)\n",
    "df2.rename({3000: 'hyp', 3001: 'epoch', 3002: 'patID'}, axis=\"columns\", inplace=True)\n",
    "\n",
    "trainX, valX, trainY, valY, pat_train, pat_val = patientSplitter('randomizedIDs.csv', df2, 0.7)\n",
    "print(\"Dataframe has been loaded\")"
   ]
  },
  {
   "cell_type": "code",
   "execution_count": 66,
   "metadata": {},
   "outputs": [
    {
     "name": "stdout",
     "output_type": "stream",
     "text": [
      "[1.0, 1.0, 1.0, 1.0, 1.0, 1.0, 1.0, 1.0, 1.0, 1.0, 1.0, 1.0, 1.0, 1.0, 1.0, 1.0, 1.0, 1.0, 1.0]\n"
     ]
    }
   ],
   "source": [
    "import numpy as np\n",
    "from sklearn.metrics import accuracy_score\n",
    "patAcc=[]\n",
    "valYp = np.expand_dims(valY, axis=1)\n",
    "for pat in np.unique(pat_val).astype(int):\n",
    "    mask = pat_val==pat\n",
    "    patAcc.append(accuracy_score(valYp[mask], valYp[mask]))\n",
    "    #print(acc)\n",
    "print(patAcc)    \n",
    "    "
   ]
  },
  {
   "cell_type": "code",
   "execution_count": 77,
   "metadata": {},
   "outputs": [],
   "source": [
    "from keras.utils import to_categorical, plot_model\n",
    "valYp = to_categorical(valY-1, 7)\n",
    "valYp = np.argmax(valYp, axis=-1)\n",
    "valYp = np.expand_dims(valYp, axis=1)"
   ]
  },
  {
   "cell_type": "code",
   "execution_count": 115,
   "metadata": {},
   "outputs": [
    {
     "name": "stdout",
     "output_type": "stream",
     "text": [
      "[1.0, 1.0, 1.0, 1.0, 1.0, 1.0, 1.0, 1.0, 1.0, 1.0, 1.0, 1.0, 1.0, 1.0, 1.0, 1.0, 1.0, 1.0, 1.0]\n"
     ]
    }
   ],
   "source": [
    "#predY = model.predict(self.valX, verbose=0)\n",
    "            # predY = np.argmax(predY, axis=-1)\n",
    "patAcc = []\n",
    "for pat in np.unique(pat_val).astype(int):\n",
    "    mask = pat_val == pat\n",
    "    patAcc.append(accuracy_score(valYp[mask], valYp[mask]))\n",
    "print(patAcc)"
   ]
  },
  {
   "cell_type": "code",
   "execution_count": 116,
   "metadata": {},
   "outputs": [
    {
     "name": "stdout",
     "output_type": "stream",
     "text": [
      "(43144, 1)\n",
      "(43144,)\n",
      "(43144, 1)\n"
     ]
    }
   ],
   "source": [
    "print(pat_val.shape)\n",
    "print(valY.shape)\n",
    "print(valYp.shape)"
   ]
  },
  {
   "cell_type": "code",
   "execution_count": 102,
   "metadata": {},
   "outputs": [],
   "source": [
    "def compute_weight(Y, classes):\n",
    "    num_samples = len(Y)\n",
    "    n_classes = len(classes)\n",
    "    Y.astype(int)\n",
    "    num_bin = np.bincount(Y[:, 0])\n",
    "    class_weights = {i: (num_samples / (n_classes * num_bin[i])) for i in range(6)}\n",
    "    return class_weights\n"
   ]
  },
  {
   "cell_type": "code",
   "execution_count": 103,
   "metadata": {},
   "outputs": [
    {
     "ename": "TypeError",
     "evalue": "Cannot cast array data from dtype('float32') to dtype('int64') according to the rule 'safe'",
     "output_type": "error",
     "traceback": [
      "\u001b[1;31m---------------------------------------------------------------------------\u001b[0m",
      "\u001b[1;31mTypeError\u001b[0m                                 Traceback (most recent call last)",
      "\u001b[1;32m<ipython-input-103-a8ed9f3def48>\u001b[0m in \u001b[0;36m<module>\u001b[1;34m()\u001b[0m\n\u001b[0;32m      1\u001b[0m \u001b[0mdummytrainY\u001b[0m \u001b[1;33m=\u001b[0m \u001b[0mto_categorical\u001b[0m\u001b[1;33m(\u001b[0m\u001b[0mtrainY\u001b[0m\u001b[1;33m-\u001b[0m\u001b[1;36m1\u001b[0m\u001b[1;33m,\u001b[0m \u001b[1;36m7\u001b[0m\u001b[1;33m)\u001b[0m\u001b[1;33m\u001b[0m\u001b[0m\n\u001b[1;32m----> 2\u001b[1;33m \u001b[0mhabijabi\u001b[0m \u001b[1;33m=\u001b[0m \u001b[0mcompute_weight\u001b[0m\u001b[1;33m(\u001b[0m\u001b[0mdummytrainY\u001b[0m\u001b[1;33m,\u001b[0m \u001b[0mnp\u001b[0m\u001b[1;33m.\u001b[0m\u001b[0munique\u001b[0m\u001b[1;33m(\u001b[0m\u001b[0mtrainY\u001b[0m\u001b[1;33m)\u001b[0m\u001b[1;33m)\u001b[0m\u001b[1;33m\u001b[0m\u001b[0m\n\u001b[0m",
      "\u001b[1;32m<ipython-input-102-db38421c8aca>\u001b[0m in \u001b[0;36mcompute_weight\u001b[1;34m(Y, classes)\u001b[0m\n\u001b[0;32m      3\u001b[0m     \u001b[0mn_classes\u001b[0m \u001b[1;33m=\u001b[0m \u001b[0mlen\u001b[0m\u001b[1;33m(\u001b[0m\u001b[0mclasses\u001b[0m\u001b[1;33m)\u001b[0m\u001b[1;33m\u001b[0m\u001b[0m\n\u001b[0;32m      4\u001b[0m     \u001b[0mY\u001b[0m\u001b[1;33m.\u001b[0m\u001b[0mastype\u001b[0m\u001b[1;33m(\u001b[0m\u001b[0mint\u001b[0m\u001b[1;33m)\u001b[0m\u001b[1;33m\u001b[0m\u001b[0m\n\u001b[1;32m----> 5\u001b[1;33m     \u001b[0mnum_bin\u001b[0m \u001b[1;33m=\u001b[0m \u001b[0mnp\u001b[0m\u001b[1;33m.\u001b[0m\u001b[0mbincount\u001b[0m\u001b[1;33m(\u001b[0m\u001b[0mY\u001b[0m\u001b[1;33m[\u001b[0m\u001b[1;33m:\u001b[0m\u001b[1;33m,\u001b[0m \u001b[1;36m0\u001b[0m\u001b[1;33m]\u001b[0m\u001b[1;33m)\u001b[0m\u001b[1;33m\u001b[0m\u001b[0m\n\u001b[0m\u001b[0;32m      6\u001b[0m     \u001b[0mclass_weights\u001b[0m \u001b[1;33m=\u001b[0m \u001b[1;33m{\u001b[0m\u001b[0mi\u001b[0m\u001b[1;33m:\u001b[0m \u001b[1;33m(\u001b[0m\u001b[0mnum_samples\u001b[0m \u001b[1;33m/\u001b[0m \u001b[1;33m(\u001b[0m\u001b[0mn_classes\u001b[0m \u001b[1;33m*\u001b[0m \u001b[0mnum_bin\u001b[0m\u001b[1;33m[\u001b[0m\u001b[0mi\u001b[0m\u001b[1;33m]\u001b[0m\u001b[1;33m)\u001b[0m\u001b[1;33m)\u001b[0m \u001b[1;32mfor\u001b[0m \u001b[0mi\u001b[0m \u001b[1;32min\u001b[0m \u001b[0mrange\u001b[0m\u001b[1;33m(\u001b[0m\u001b[1;36m6\u001b[0m\u001b[1;33m)\u001b[0m\u001b[1;33m}\u001b[0m\u001b[1;33m\u001b[0m\u001b[0m\n\u001b[0;32m      7\u001b[0m     \u001b[1;32mreturn\u001b[0m \u001b[0mclass_weights\u001b[0m\u001b[1;33m\u001b[0m\u001b[0m\n",
      "\u001b[1;31mTypeError\u001b[0m: Cannot cast array data from dtype('float32') to dtype('int64') according to the rule 'safe'"
     ]
    }
   ],
   "source": [
    "dummytrainY = to_categorical(trainY-1, 7)\n",
    "habijabi = compute_weight(dummytrainY, np.unique(trainY))"
   ]
  },
  {
   "cell_type": "code",
   "execution_count": 112,
   "metadata": {},
   "outputs": [
    {
     "name": "stdout",
     "output_type": "stream",
     "text": [
      "[6 6 6 ... 6 6 6]\n"
     ]
    }
   ],
   "source": [
    "trainYp= trainY.astype(int)\n",
    "print(trainYp)\n",
    "trainYp = np.expand_dims(trainYp, axis=1)\n",
    "num_bin = np.bincount(trainYp[:, 0])"
   ]
  },
  {
   "cell_type": "code",
   "execution_count": 114,
   "metadata": {},
   "outputs": [
    {
     "name": "stdout",
     "output_type": "stream",
     "text": [
      "[    0  3499 18824  3339  2462  7857 46862]\n"
     ]
    }
   ],
   "source": [
    "print(num_bin)"
   ]
  },
  {
   "cell_type": "code",
   "execution_count": 33,
   "metadata": {},
   "outputs": [
    {
     "name": "stdout",
     "output_type": "stream",
     "text": [
      "Elements of A not divisible by 3:\n",
      "[  4  10  89  43  46 100]\n"
     ]
    }
   ],
   "source": [
    "import numpy as np\n",
    "A = np.array([3,4,6,10,24,89,45,43,46,99,100])\n",
    "div3 = A[A%3!=0]\n",
    "print(\"Elements of A not divisible by 3:\")\n",
    "print(div3)"
   ]
  },
  {
   "cell_type": "code",
   "execution_count": 34,
   "metadata": {},
   "outputs": [],
   "source": [
    "maska = A%3!=0"
   ]
  },
  {
   "cell_type": "code",
   "execution_count": 35,
   "metadata": {},
   "outputs": [
    {
     "data": {
      "text/plain": [
       "array([False,  True, False,  True, False,  True, False,  True,  True,\n",
       "       False,  True])"
      ]
     },
     "execution_count": 35,
     "metadata": {},
     "output_type": "execute_result"
    }
   ],
   "source": [
    "maska"
   ]
  },
  {
   "cell_type": "code",
   "execution_count": null,
   "metadata": {},
   "outputs": [],
   "source": []
  }
 ],
 "metadata": {
  "kernelspec": {
   "display_name": "Python 3",
   "language": "python",
   "name": "python3"
  },
  "language_info": {
   "codemirror_mode": {
    "name": "ipython",
    "version": 3
   },
   "file_extension": ".py",
   "mimetype": "text/x-python",
   "name": "python",
   "nbconvert_exporter": "python",
   "pygments_lexer": "ipython3",
   "version": "3.5.5"
  }
 },
 "nbformat": 4,
 "nbformat_minor": 2
}
