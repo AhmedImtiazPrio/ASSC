{
 "cells": [
  {
   "cell_type": "code",
   "execution_count": null,
   "metadata": {},
   "outputs": [],
   "source": [
    "import pandas as pd\n",
    "def patientSplitter(randomIDfile,df2,split_portion):\n",
    "    import pandas as pd\n",
    "\n",
    "    df1 = pd.read_csv(randomIDfile,header=None)\n",
    "    split_portion_numer=int(split_portion*61)\n",
    "\n",
    "    train_pat_list = [int(each) for each in df1.iloc[:split_portion_numer].values]\n",
    "    test_pat_list = [int(each) for each in df1.iloc[split_portion_numer:].values]\n",
    "    print(test_pat_list)\n",
    "    df3 = []\n",
    "    df4 = []\n",
    "    for pat_ID in train_pat_list:\n",
    "        df3.append(df2[df2.patID == pat_ID].values)\n",
    "        print(pat_ID)\n",
    "    for pat_ID in test_pat_list:\n",
    "        df4.append(df2[df2.patID == pat_ID].values)\n",
    "        print(pat_ID)\n",
    "    del df2\n",
    "    df3 = pd.np.vstack(df3)\n",
    "    df4 = pd.np.vstack(df4)\n",
    "    X_train = df3[:, :3000]\n",
    "    X_test= df4[:, :3000]\n",
    "    Y_train= df3[:,3000]\n",
    "    Y_test= df4[:,3000]\n",
    "    pat_train=df3[:, 3002:3003]\n",
    "    pat_test= df4[:, 3002:3003]\n",
    "\n",
    "    del pd\n",
    "    return X_train,X_test,Y_train,Y_test,pat_train,pat_test\n",
    "\n",
    "df2 = pd.read_csv(\"E:/SleepWell/ASSC/data/lastpurifiedallDataChannel1.csv\", header=None)\n",
    "df2.rename({3000: 'hyp', 3001: 'epoch', 3002: 'patID'}, axis=\"columns\", inplace=True)\n",
    "\n",
    "trainX, valX, trainY, valY, pat_train, pat_val = patientSplitter('randomizedIDs.csv', df2, 0.7)\n",
    "print(\"Dataframe has been loaded\")"
   ]
  },
  {
   "cell_type": "code",
   "execution_count": null,
   "metadata": {},
   "outputs": [],
   "source": [
    "from sklearn.preprocessing import StandardScaler\n",
    "data = trainX.flatten('A')\n",
    "data = np.expand_dims(data, axis=1)\n",
    "scaler = StandardScaler()\n",
    "outdata= scaler.fit_transform(data)\n",
    "toutdata = outdata.reshape(3000, int(outdata.shape[0]/3000))\n",
    "#outdata = outdata.reshape(3000,:)"
   ]
  },
  {
   "cell_type": "code",
   "execution_count": null,
   "metadata": {},
   "outputs": [],
   "source": [
    "toutdata = outdata.reshape(int(outdata.shape[0]/3000),3000)"
   ]
  },
  {
   "cell_type": "code",
   "execution_count": null,
   "metadata": {},
   "outputs": [],
   "source": [
    "toutdata.shape"
   ]
  },
  {
   "cell_type": "code",
   "execution_count": null,
   "metadata": {},
   "outputs": [],
   "source": [
    "adata = [[1, 3, 4], [6, 7, 8]]\n",
    "adata=np.array(adata)\n",
    "data = adata.flatten('A')\n",
    "data = np.expand_dims(data, axis=1)\n",
    "scaler = StandardScaler()\n",
    "outdata= scaler.fit_transform(data)\n",
    "outdata\n",
    "data.reshape(2, 3)"
   ]
  },
  {
   "cell_type": "code",
   "execution_count": null,
   "metadata": {},
   "outputs": [],
   "source": [
    "import numpy as np\n",
    "print(np.unique(pat_val))\n",
    "print(np.unique(pat_train))\n",
    "\n",
    "#np.savetxt(\"patAcc.csv\", np.unique(pat_val), delimiter=\",\")"
   ]
  },
  {
   "cell_type": "code",
   "execution_count": null,
   "metadata": {},
   "outputs": [],
   "source": [
    "trainX"
   ]
  },
  {
   "cell_type": "code",
   "execution_count": null,
   "metadata": {},
   "outputs": [],
   "source": [
    "import numpy as np\n",
    "flatTrainX= trainX.flatten('A')"
   ]
  },
  {
   "cell_type": "code",
   "execution_count": null,
   "metadata": {},
   "outputs": [],
   "source": [
    "a = np.array([[1,2, 4, 5, 6], [3,4, 4]])\n",
    "b= a.flatten\n",
    "flatTrainX.shape\n",
    "print(b)\n",
    "trainX"
   ]
  },
  {
   "cell_type": "code",
   "execution_count": null,
   "metadata": {},
   "outputs": [],
   "source": [
    "import numpy as np\n",
    "from sklearn.metrics import accuracy_score\n",
    "patAcc=[]\n",
    "valYp = np.expand_dims(valY, axis=1)\n",
    "for pat in np.unique(pat_val).astype(int):\n",
    "    mask = pat_val==pat\n",
    "    patAcc.append(accuracy_score(valYp[mask], valYp[mask]))\n",
    "    #print(acc)\n",
    "print(patAcc)    \n",
    "    "
   ]
  },
  {
   "cell_type": "code",
   "execution_count": null,
   "metadata": {},
   "outputs": [],
   "source": []
  },
  {
   "cell_type": "code",
   "execution_count": null,
   "metadata": {},
   "outputs": [],
   "source": [
    "from keras.utils import to_categorical, plot_model\n",
    "valYp = to_categorical(valY-1, 7)\n",
    "valYp = np.argmax(valYp, axis=-1)\n",
    "valYp = np.expand_dims(valYp, axis=1)"
   ]
  },
  {
   "cell_type": "code",
   "execution_count": null,
   "metadata": {},
   "outputs": [],
   "source": [
    "#predY = model.predict(self.valX, verbose=0)\n",
    "            # predY = np.argmax(predY, axis=-1)\n",
    "patAcc = []\n",
    "for pat in np.unique(pat_val).astype(int):\n",
    "    mask = pat_val == pat\n",
    "    patAcc.append(accuracy_score(valYp[mask], valYp[mask]))\n",
    "print(patAcc)"
   ]
  },
  {
   "cell_type": "code",
   "execution_count": null,
   "metadata": {},
   "outputs": [],
   "source": [
    "print(pat_val.shape)\n",
    "print(valY.shape)\n",
    "print(valYp.shape)"
   ]
  },
  {
   "cell_type": "code",
   "execution_count": null,
   "metadata": {},
   "outputs": [],
   "source": [
    "def compute_weight(Y, classes):\n",
    "    num_samples = len(Y)\n",
    "    n_classes = len(classes)\n",
    "    Y.astype(int)\n",
    "    num_bin = np.bincount(Y[:, 0])\n",
    "    class_weights = {i: (num_samples / (n_classes * num_bin[i])) for i in range(6)}\n",
    "    return class_weights\n"
   ]
  },
  {
   "cell_type": "code",
   "execution_count": null,
   "metadata": {},
   "outputs": [],
   "source": [
    "dummytrainY = to_categorical(trainY-1, 7)\n",
    "habijabi = compute_weight(dummytrainY, np.unique(trainY))"
   ]
  },
  {
   "cell_type": "code",
   "execution_count": null,
   "metadata": {},
   "outputs": [],
   "source": [
    "trainYp= trainY.astype(int)\n",
    "print(trainYp)\n",
    "trainYp = np.expand_dims(trainYp, axis=1)\n",
    "num_bin = np.bincount(trainYp[:, 0])"
   ]
  },
  {
   "cell_type": "code",
   "execution_count": null,
   "metadata": {},
   "outputs": [],
   "source": [
    "print(num_bin)"
   ]
  },
  {
   "cell_type": "code",
   "execution_count": null,
   "metadata": {},
   "outputs": [],
   "source": [
    "import numpy as np\n",
    "A = np.array([3,4,6,10,24,89,45,43,46,99,100])\n",
    "div3 = A[A%3!=0]\n",
    "print(\"Elements of A not divisible by 3:\")\n",
    "print(div3)"
   ]
  },
  {
   "cell_type": "code",
   "execution_count": null,
   "metadata": {},
   "outputs": [],
   "source": [
    "maska = A%3!=0"
   ]
  },
  {
   "cell_type": "code",
   "execution_count": null,
   "metadata": {},
   "outputs": [],
   "source": [
    "maska"
   ]
  },
  {
   "cell_type": "code",
   "execution_count": null,
   "metadata": {},
   "outputs": [],
   "source": []
  }
 ],
 "metadata": {
  "kernelspec": {
   "display_name": "Python 3",
   "language": "python",
   "name": "python3"
  },
  "language_info": {
   "codemirror_mode": {
    "name": "ipython",
    "version": 3
   },
   "file_extension": ".py",
   "mimetype": "text/x-python",
   "name": "python",
   "nbconvert_exporter": "python",
   "pygments_lexer": "ipython3",
   "version": "3.5.5"
  }
 },
 "nbformat": 4,
 "nbformat_minor": 2
}
